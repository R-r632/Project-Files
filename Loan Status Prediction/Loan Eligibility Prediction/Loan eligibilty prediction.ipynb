{
 "cells": [
  {
   "cell_type": "markdown",
   "id": "d57af4a8",
   "metadata": {},
   "source": [
    "## Loan Eligibility Prediction "
   ]
  },
  {
   "cell_type": "markdown",
   "id": "42a09c31",
   "metadata": {},
   "source": [
    "Loan eligibility is defined as a set of criteria basis which a financial institution evaluates to decide the eligiblity of a customer for a particular loan.\n",
    "\n",
    "**Criterias**<br>\n",
    "Loan amount, Dependents, Marital Status, Applicant Income, Laon amount term, Co-applicant income, Gender, Credit History, Property Area"
   ]
  },
  {
   "cell_type": "code",
   "execution_count": 2,
   "id": "554c98d5",
   "metadata": {},
   "outputs": [],
   "source": [
    "import pandas as pd\n",
    "import numpy as np\n",
    "import matplotlib.pyplot as plt\n",
    "%matplotlib inline"
   ]
  },
  {
   "cell_type": "code",
   "execution_count": 3,
   "id": "9455a339",
   "metadata": {},
   "outputs": [],
   "source": [
    "df = pd.read_csv(\"Loan Train.csv\")"
   ]
  },
  {
   "cell_type": "markdown",
   "id": "b63caa2b",
   "metadata": {},
   "source": [
    "### Column Details\n",
    "==========================\n",
    "1. Loan_ID : Unique Loan ID\n",
    "2. Gender : Male/ Female\n",
    "3. Married : Applicant married (Y/N)\n",
    "4. Dependents : Number of dependents\n",
    "5. Education : Applicant Education (Graduate/ Under Graduate)\n",
    "6. Self_Employed : Self employed (Y/N)\n",
    "7. ApplicantIncome : Applicant income\n",
    "8. CoapplicantIncome : Coapplicant income\n",
    "9. LoanAmount : Loan amount in thousands of dollars\n",
    "10. Loan_Amount_Term : Term of loan in months\n",
    "11. Credit_History : Credit history meets guidelines yes or no\n",
    "12. Property_Area : Urban/ Semi Urban/ Rural\n",
    "13. Loan_Status : Loan approved (Y/N) this is the target variable"
   ]
  },
  {
   "cell_type": "code",
   "execution_count": 4,
   "id": "a8215c75",
   "metadata": {},
   "outputs": [
    {
     "name": "stdout",
     "output_type": "stream",
     "text": [
      "      Loan_ID  Gender Married Dependents     Education Self_Employed  ApplicantIncome  CoapplicantIncome  LoanAmount  Loan_Amount_Term  Credit_History Property_Area Loan_Status\n",
      "0    LP001002    Male      No          0      Graduate            No             5849           0.000000         NaN             360.0             1.0         Urban           Y\n",
      "1    LP001003    Male     Yes          1      Graduate            No             4583        1508.000000       128.0             360.0             1.0         Rural           N\n",
      "2    LP001005    Male     Yes          0      Graduate           Yes             3000           0.000000        66.0             360.0             1.0         Urban           Y\n",
      "3    LP001006    Male     Yes          0  Not Graduate            No             2583        2358.000000       120.0             360.0             1.0         Urban           Y\n",
      "4    LP001008    Male      No          0      Graduate            No             6000           0.000000       141.0             360.0             1.0         Urban           Y\n",
      "5    LP001011    Male     Yes          2      Graduate           Yes             5417        4196.000000       267.0             360.0             1.0         Urban           Y\n",
      "6    LP001013    Male     Yes          0  Not Graduate            No             2333        1516.000000        95.0             360.0             1.0         Urban           Y\n",
      "7    LP001014    Male     Yes         3+      Graduate            No             3036        2504.000000       158.0             360.0             0.0     Semiurban           N\n",
      "8    LP001018    Male     Yes          2      Graduate            No             4006        1526.000000       168.0             360.0             1.0         Urban           Y\n",
      "9    LP001020    Male     Yes          1      Graduate            No            12841       10968.000000       349.0             360.0             1.0     Semiurban           N\n",
      "10   LP001024    Male     Yes          2      Graduate            No             3200         700.000000        70.0             360.0             1.0         Urban           Y\n",
      "11   LP001027    Male     Yes          2      Graduate           NaN             2500        1840.000000       109.0             360.0             1.0         Urban           Y\n",
      "12   LP001028    Male     Yes          2      Graduate            No             3073        8106.000000       200.0             360.0             1.0         Urban           Y\n",
      "13   LP001029    Male      No          0      Graduate            No             1853        2840.000000       114.0             360.0             1.0         Rural           N\n",
      "14   LP001030    Male     Yes          2      Graduate            No             1299        1086.000000        17.0             120.0             1.0         Urban           Y\n",
      "15   LP001032    Male      No          0      Graduate            No             4950           0.000000       125.0             360.0             1.0         Urban           Y\n",
      "16   LP001034    Male      No          1  Not Graduate            No             3596           0.000000       100.0             240.0             NaN         Urban           Y\n",
      "17   LP001036  Female      No          0      Graduate            No             3510           0.000000        76.0             360.0             0.0         Urban           N\n",
      "18   LP001038    Male     Yes          0  Not Graduate            No             4887           0.000000       133.0             360.0             1.0         Rural           N\n",
      "19   LP001041    Male     Yes          0      Graduate           NaN             2600        3500.000000       115.0               NaN             1.0         Urban           Y\n",
      "20   LP001043    Male     Yes          0  Not Graduate            No             7660           0.000000       104.0             360.0             0.0         Urban           N\n",
      "21   LP001046    Male     Yes          1      Graduate            No             5955        5625.000000       315.0             360.0             1.0         Urban           Y\n",
      "22   LP001047    Male     Yes          0  Not Graduate            No             2600        1911.000000       116.0             360.0             0.0     Semiurban           N\n",
      "23   LP001050     NaN     Yes          2  Not Graduate            No             3365        1917.000000       112.0             360.0             0.0         Rural           N\n",
      "24   LP001052    Male     Yes          1      Graduate           NaN             3717        2925.000000       151.0             360.0             NaN     Semiurban           N\n",
      "25   LP001066    Male     Yes          0      Graduate           Yes             9560           0.000000       191.0             360.0             1.0     Semiurban           Y\n",
      "26   LP001068    Male     Yes          0      Graduate            No             2799        2253.000000       122.0             360.0             1.0     Semiurban           Y\n",
      "27   LP001073    Male     Yes          2  Not Graduate            No             4226        1040.000000       110.0             360.0             1.0         Urban           Y\n",
      "28   LP001086    Male      No          0  Not Graduate            No             1442           0.000000        35.0             360.0             1.0         Urban           N\n",
      "29   LP001087  Female      No          2      Graduate           NaN             3750        2083.000000       120.0             360.0             1.0     Semiurban           Y\n",
      "30   LP001091    Male     Yes          1      Graduate           NaN             4166        3369.000000       201.0             360.0             NaN         Urban           N\n",
      "31   LP001095    Male      No          0      Graduate            No             3167           0.000000        74.0             360.0             1.0         Urban           N\n",
      "32   LP001097    Male      No          1      Graduate           Yes             4692           0.000000       106.0             360.0             1.0         Rural           N\n",
      "33   LP001098    Male     Yes          0      Graduate            No             3500        1667.000000       114.0             360.0             1.0     Semiurban           Y\n",
      "34   LP001100    Male      No         3+      Graduate            No            12500        3000.000000       320.0             360.0             1.0         Rural           N\n",
      "35   LP001106    Male     Yes          0      Graduate            No             2275        2067.000000         NaN             360.0             1.0         Urban           Y\n",
      "36   LP001109    Male     Yes          0      Graduate            No             1828        1330.000000       100.0               NaN             0.0         Urban           N\n",
      "37   LP001112  Female     Yes          0      Graduate            No             3667        1459.000000       144.0             360.0             1.0     Semiurban           Y\n",
      "38   LP001114    Male      No          0      Graduate            No             4166        7210.000000       184.0             360.0             1.0         Urban           Y\n",
      "39   LP001116    Male      No          0  Not Graduate            No             3748        1668.000000       110.0             360.0             1.0     Semiurban           Y\n",
      "40   LP001119    Male      No          0      Graduate            No             3600           0.000000        80.0             360.0             1.0         Urban           N\n",
      "41   LP001120    Male      No          0      Graduate            No             1800        1213.000000        47.0             360.0             1.0         Urban           Y\n",
      "42   LP001123    Male     Yes          0      Graduate            No             2400           0.000000        75.0             360.0             NaN         Urban           Y\n",
      "43   LP001131    Male     Yes          0      Graduate            No             3941        2336.000000       134.0             360.0             1.0     Semiurban           Y\n",
      "44   LP001136    Male     Yes          0  Not Graduate           Yes             4695           0.000000        96.0               NaN             1.0         Urban           Y\n",
      "45   LP001137  Female      No          0      Graduate            No             3410           0.000000        88.0               NaN             1.0         Urban           Y\n",
      "46   LP001138    Male     Yes          1      Graduate            No             5649           0.000000        44.0             360.0             1.0         Urban           Y\n",
      "47   LP001144    Male     Yes          0      Graduate            No             5821           0.000000       144.0             360.0             1.0         Urban           Y\n",
      "48   LP001146  Female     Yes          0      Graduate            No             2645        3440.000000       120.0             360.0             0.0         Urban           N\n",
      "49   LP001151  Female      No          0      Graduate            No             4000        2275.000000       144.0             360.0             1.0     Semiurban           Y\n",
      "50   LP001155  Female     Yes          0  Not Graduate            No             1928        1644.000000       100.0             360.0             1.0     Semiurban           Y\n",
      "51   LP001157  Female      No          0      Graduate            No             3086           0.000000       120.0             360.0             1.0     Semiurban           Y\n",
      "52   LP001164  Female      No          0      Graduate            No             4230           0.000000       112.0             360.0             1.0     Semiurban           N\n",
      "53   LP001179    Male     Yes          2      Graduate            No             4616           0.000000       134.0             360.0             1.0         Urban           N\n",
      "54   LP001186  Female     Yes          1      Graduate           Yes            11500           0.000000       286.0             360.0             0.0         Urban           N\n",
      "55   LP001194    Male     Yes          2      Graduate            No             2708        1167.000000        97.0             360.0             1.0     Semiurban           Y\n",
      "56   LP001195    Male     Yes          0      Graduate            No             2132        1591.000000        96.0             360.0             1.0     Semiurban           Y\n",
      "57   LP001197    Male     Yes          0      Graduate            No             3366        2200.000000       135.0             360.0             1.0         Rural           N\n",
      "58   LP001198    Male     Yes          1      Graduate            No             8080        2250.000000       180.0             360.0             1.0         Urban           Y\n",
      "59   LP001199    Male     Yes          2  Not Graduate            No             3357        2859.000000       144.0             360.0             1.0         Urban           Y\n",
      "60   LP001205    Male     Yes          0      Graduate            No             2500        3796.000000       120.0             360.0             1.0         Urban           Y\n",
      "61   LP001206    Male     Yes         3+      Graduate            No             3029           0.000000        99.0             360.0             1.0         Urban           Y\n",
      "62   LP001207    Male     Yes          0  Not Graduate           Yes             2609        3449.000000       165.0             180.0             0.0         Rural           N\n",
      "63   LP001213    Male     Yes          1      Graduate            No             4945           0.000000         NaN             360.0             0.0         Rural           N\n",
      "64   LP001222  Female      No          0      Graduate            No             4166           0.000000       116.0             360.0             0.0     Semiurban           N\n",
      "65   LP001225    Male     Yes          0      Graduate            No             5726        4595.000000       258.0             360.0             1.0     Semiurban           N\n",
      "66   LP001228    Male      No          0  Not Graduate            No             3200        2254.000000       126.0             180.0             0.0         Urban           N\n",
      "67   LP001233    Male     Yes          1      Graduate            No            10750           0.000000       312.0             360.0             1.0         Urban           Y\n",
      "68   LP001238    Male     Yes         3+  Not Graduate           Yes             7100           0.000000       125.0              60.0             1.0         Urban           Y\n",
      "69   LP001241  Female      No          0      Graduate            No             4300           0.000000       136.0             360.0             0.0     Semiurban           N\n",
      "70   LP001243    Male     Yes          0      Graduate            No             3208        3066.000000       172.0             360.0             1.0         Urban           Y\n",
      "71   LP001245    Male     Yes          2  Not Graduate           Yes             1875        1875.000000        97.0             360.0             1.0     Semiurban           Y\n",
      "72   LP001248    Male      No          0      Graduate            No             3500           0.000000        81.0             300.0             1.0     Semiurban           Y\n",
      "73   LP001250    Male     Yes         3+  Not Graduate            No             4755           0.000000        95.0               NaN             0.0     Semiurban           N\n",
      "74   LP001253    Male     Yes         3+      Graduate           Yes             5266        1774.000000       187.0             360.0             1.0     Semiurban           Y\n",
      "75   LP001255    Male      No          0      Graduate            No             3750           0.000000       113.0             480.0             1.0         Urban           N\n",
      "76   LP001256    Male      No          0      Graduate            No             3750        4750.000000       176.0             360.0             1.0         Urban           N\n",
      "77   LP001259    Male     Yes          1      Graduate           Yes             1000        3022.000000       110.0             360.0             1.0         Urban           N\n",
      "78   LP001263    Male     Yes         3+      Graduate            No             3167        4000.000000       180.0             300.0             0.0     Semiurban           N\n",
      "79   LP001264    Male     Yes         3+  Not Graduate           Yes             3333        2166.000000       130.0             360.0             NaN     Semiurban           Y\n",
      "80   LP001265  Female      No          0      Graduate            No             3846           0.000000       111.0             360.0             1.0     Semiurban           Y\n",
      "81   LP001266    Male     Yes          1      Graduate           Yes             2395           0.000000         NaN             360.0             1.0     Semiurban           Y\n",
      "82   LP001267  Female     Yes          2      Graduate            No             1378        1881.000000       167.0             360.0             1.0         Urban           N\n",
      "83   LP001273    Male     Yes          0      Graduate            No             6000        2250.000000       265.0             360.0             NaN     Semiurban           N\n",
      "84   LP001275    Male     Yes          1      Graduate            No             3988           0.000000        50.0             240.0             1.0         Urban           Y\n",
      "85   LP001279    Male      No          0      Graduate            No             2366        2531.000000       136.0             360.0             1.0     Semiurban           Y\n",
      "86   LP001280    Male     Yes          2  Not Graduate            No             3333        2000.000000        99.0             360.0             NaN     Semiurban           Y\n",
      "87   LP001282    Male     Yes          0      Graduate            No             2500        2118.000000       104.0             360.0             1.0     Semiurban           Y\n",
      "88   LP001289    Male      No          0      Graduate            No             8566           0.000000       210.0             360.0             1.0         Urban           Y\n",
      "89   LP001310    Male     Yes          0      Graduate            No             5695        4167.000000       175.0             360.0             1.0     Semiurban           Y\n",
      "90   LP001316    Male     Yes          0      Graduate            No             2958        2900.000000       131.0             360.0             1.0     Semiurban           Y\n",
      "91   LP001318    Male     Yes          2      Graduate            No             6250        5654.000000       188.0             180.0             1.0     Semiurban           Y\n",
      "92   LP001319    Male     Yes          2  Not Graduate            No             3273        1820.000000        81.0             360.0             1.0         Urban           Y\n",
      "93   LP001322    Male      No          0      Graduate            No             4133           0.000000       122.0             360.0             1.0     Semiurban           Y\n",
      "94   LP001325    Male      No          0  Not Graduate            No             3620           0.000000        25.0             120.0             1.0     Semiurban           Y\n",
      "95   LP001326    Male      No          0      Graduate           NaN             6782           0.000000         NaN             360.0             NaN         Urban           N\n",
      "96   LP001327  Female     Yes          0      Graduate            No             2484        2302.000000       137.0             360.0             1.0     Semiurban           Y\n",
      "97   LP001333    Male     Yes          0      Graduate            No             1977         997.000000        50.0             360.0             1.0     Semiurban           Y\n",
      "98   LP001334    Male     Yes          0  Not Graduate            No             4188           0.000000       115.0             180.0             1.0     Semiurban           Y\n",
      "99   LP001343    Male     Yes          0      Graduate            No             1759        3541.000000       131.0             360.0             1.0     Semiurban           Y\n",
      "100  LP001345    Male     Yes          2  Not Graduate            No             4288        3263.000000       133.0             180.0             1.0         Urban           Y\n",
      "101  LP001349    Male      No          0      Graduate            No             4843        3806.000000       151.0             360.0             1.0     Semiurban           Y\n",
      "102  LP001350    Male     Yes        NaN      Graduate            No            13650           0.000000         NaN             360.0             1.0         Urban           Y\n",
      "103  LP001356    Male     Yes          0      Graduate            No             4652        3583.000000         NaN             360.0             1.0     Semiurban           Y\n",
      "104  LP001357    Male     NaN        NaN      Graduate            No             3816         754.000000       160.0             360.0             1.0         Urban           Y\n",
      "105  LP001367    Male     Yes          1      Graduate            No             3052        1030.000000       100.0             360.0             1.0         Urban           Y\n",
      "106  LP001369    Male     Yes          2      Graduate            No            11417        1126.000000       225.0             360.0             1.0         Urban           Y\n",
      "107  LP001370    Male      No          0  Not Graduate           NaN             7333           0.000000       120.0             360.0             1.0         Rural           N\n",
      "108  LP001379    Male     Yes          2      Graduate            No             3800        3600.000000       216.0             360.0             0.0         Urban           N\n",
      "109  LP001384    Male     Yes         3+  Not Graduate            No             2071         754.000000        94.0             480.0             1.0     Semiurban           Y\n",
      "110  LP001385    Male      No          0      Graduate            No             5316           0.000000       136.0             360.0             1.0         Urban           Y\n",
      "111  LP001387  Female     Yes          0      Graduate           NaN             2929        2333.000000       139.0             360.0             1.0     Semiurban           Y\n",
      "112  LP001391    Male     Yes          0  Not Graduate            No             3572        4114.000000       152.0               NaN             0.0         Rural           N\n",
      "113  LP001392  Female      No          1      Graduate           Yes             7451           0.000000         NaN             360.0             1.0     Semiurban           Y\n",
      "114  LP001398    Male      No          0      Graduate           NaN             5050           0.000000       118.0             360.0             1.0     Semiurban           Y\n",
      "115  LP001401    Male     Yes          1      Graduate            No            14583           0.000000       185.0             180.0             1.0         Rural           Y\n",
      "116  LP001404  Female     Yes          0      Graduate            No             3167        2283.000000       154.0             360.0             1.0     Semiurban           Y\n",
      "117  LP001405    Male     Yes          1      Graduate            No             2214        1398.000000        85.0             360.0             NaN         Urban           Y\n",
      "118  LP001421    Male     Yes          0      Graduate            No             5568        2142.000000       175.0             360.0             1.0         Rural           N\n",
      "119  LP001422  Female      No          0      Graduate            No            10408           0.000000       259.0             360.0             1.0         Urban           Y\n",
      "120  LP001426    Male     Yes        NaN      Graduate            No             5667        2667.000000       180.0             360.0             1.0         Rural           Y\n",
      "121  LP001430  Female      No          0      Graduate            No             4166           0.000000        44.0             360.0             1.0     Semiurban           Y\n",
      "122  LP001431  Female      No          0      Graduate            No             2137        8980.000000       137.0             360.0             0.0     Semiurban           Y\n",
      "123  LP001432    Male     Yes          2      Graduate            No             2957           0.000000        81.0             360.0             1.0     Semiurban           Y\n",
      "124  LP001439    Male     Yes          0  Not Graduate            No             4300        2014.000000       194.0             360.0             1.0         Rural           Y\n",
      "125  LP001443  Female      No          0      Graduate            No             3692           0.000000        93.0             360.0             NaN         Rural           Y\n",
      "126  LP001448     NaN     Yes         3+      Graduate            No            23803           0.000000       370.0             360.0             1.0         Rural           Y\n",
      "127  LP001449    Male      No          0      Graduate            No             3865        1640.000000         NaN             360.0             1.0         Rural           Y\n",
      "128  LP001451    Male     Yes          1      Graduate           Yes            10513        3850.000000       160.0             180.0             0.0         Urban           N\n",
      "129  LP001465    Male     Yes          0      Graduate            No             6080        2569.000000       182.0             360.0             NaN         Rural           N\n",
      "130  LP001469    Male      No          0      Graduate           Yes            20166           0.000000       650.0             480.0             NaN         Urban           Y\n",
      "131  LP001473    Male      No          0      Graduate            No             2014        1929.000000        74.0             360.0             1.0         Urban           Y\n",
      "132  LP001478    Male      No          0      Graduate            No             2718           0.000000        70.0             360.0             1.0     Semiurban           Y\n",
      "133  LP001482    Male     Yes          0      Graduate           Yes             3459           0.000000        25.0             120.0             1.0     Semiurban           Y\n",
      "134  LP001487    Male      No          0      Graduate            No             4895           0.000000       102.0             360.0             1.0     Semiurban           Y\n",
      "135  LP001488    Male     Yes         3+      Graduate            No             4000        7750.000000       290.0             360.0             1.0     Semiurban           N\n",
      "136  LP001489  Female     Yes          0      Graduate            No             4583           0.000000        84.0             360.0             1.0         Rural           N\n",
      "137  LP001491    Male     Yes          2      Graduate           Yes             3316        3500.000000        88.0             360.0             1.0         Urban           Y\n",
      "138  LP001492    Male      No          0      Graduate            No            14999           0.000000       242.0             360.0             0.0     Semiurban           N\n",
      "139  LP001493    Male     Yes          2  Not Graduate            No             4200        1430.000000       129.0             360.0             1.0         Rural           N\n",
      "140  LP001497    Male     Yes          2      Graduate            No             5042        2083.000000       185.0             360.0             1.0         Rural           N\n",
      "141  LP001498    Male      No          0      Graduate            No             5417           0.000000       168.0             360.0             1.0         Urban           Y\n",
      "142  LP001504    Male      No          0      Graduate           Yes             6950           0.000000       175.0             180.0             1.0     Semiurban           Y\n",
      "143  LP001507    Male     Yes          0      Graduate            No             2698        2034.000000       122.0             360.0             1.0     Semiurban           Y\n",
      "144  LP001508    Male     Yes          2      Graduate            No            11757           0.000000       187.0             180.0             1.0         Urban           Y\n",
      "145  LP001514  Female     Yes          0      Graduate            No             2330        4486.000000       100.0             360.0             1.0     Semiurban           Y\n",
      "146  LP001516  Female     Yes          2      Graduate            No            14866           0.000000        70.0             360.0             1.0         Urban           Y\n",
      "147  LP001518    Male     Yes          1      Graduate            No             1538        1425.000000        30.0             360.0             1.0         Urban           Y\n",
      "148  LP001519  Female      No          0      Graduate            No            10000        1666.000000       225.0             360.0             1.0         Rural           N\n",
      "149  LP001520    Male     Yes          0      Graduate            No             4860         830.000000       125.0             360.0             1.0     Semiurban           Y\n",
      "150  LP001528    Male      No          0      Graduate            No             6277           0.000000       118.0             360.0             0.0         Rural           N\n",
      "151  LP001529    Male     Yes          0      Graduate           Yes             2577        3750.000000       152.0             360.0             1.0         Rural           Y\n",
      "152  LP001531    Male      No          0      Graduate            No             9166           0.000000       244.0             360.0             1.0         Urban           N\n",
      "153  LP001532    Male     Yes          2  Not Graduate            No             2281           0.000000       113.0             360.0             1.0         Rural           N\n",
      "154  LP001535    Male      No          0      Graduate            No             3254           0.000000        50.0             360.0             1.0         Urban           Y\n",
      "155  LP001536    Male     Yes         3+      Graduate            No            39999           0.000000       600.0             180.0             0.0     Semiurban           Y\n",
      "156  LP001541    Male     Yes          1      Graduate            No             6000           0.000000       160.0             360.0             NaN         Rural           Y\n",
      "157  LP001543    Male     Yes          1      Graduate            No             9538           0.000000       187.0             360.0             1.0         Urban           Y\n",
      "158  LP001546    Male      No          0      Graduate           NaN             2980        2083.000000       120.0             360.0             1.0         Rural           Y\n",
      "159  LP001552    Male     Yes          0      Graduate            No             4583        5625.000000       255.0             360.0             1.0     Semiurban           Y\n",
      "160  LP001560    Male     Yes          0  Not Graduate            No             1863        1041.000000        98.0             360.0             1.0     Semiurban           Y\n",
      "161  LP001562    Male     Yes          0      Graduate            No             7933           0.000000       275.0             360.0             1.0         Urban           N\n",
      "162  LP001565    Male     Yes          1      Graduate            No             3089        1280.000000       121.0             360.0             0.0     Semiurban           N\n",
      "163  LP001570    Male     Yes          2      Graduate            No             4167        1447.000000       158.0             360.0             1.0         Rural           Y\n",
      "164  LP001572    Male     Yes          0      Graduate            No             9323           0.000000        75.0             180.0             1.0         Urban           Y\n",
      "165  LP001574    Male     Yes          0      Graduate            No             3707        3166.000000       182.0               NaN             1.0         Rural           Y\n",
      "166  LP001577  Female     Yes          0      Graduate            No             4583           0.000000       112.0             360.0             1.0         Rural           N\n",
      "167  LP001578    Male     Yes          0      Graduate            No             2439        3333.000000       129.0             360.0             1.0         Rural           Y\n",
      "168  LP001579    Male      No          0      Graduate            No             2237           0.000000        63.0             480.0             0.0     Semiurban           N\n",
      "169  LP001580    Male     Yes          2      Graduate            No             8000           0.000000       200.0             360.0             1.0     Semiurban           Y\n",
      "170  LP001581    Male     Yes          0  Not Graduate           NaN             1820        1769.000000        95.0             360.0             1.0         Rural           Y\n",
      "171  LP001585     NaN     Yes         3+      Graduate            No            51763           0.000000       700.0             300.0             1.0         Urban           Y\n",
      "172  LP001586    Male     Yes         3+  Not Graduate            No             3522           0.000000        81.0             180.0             1.0         Rural           N\n",
      "173  LP001594    Male     Yes          0      Graduate            No             5708        5625.000000       187.0             360.0             1.0     Semiurban           Y\n",
      "174  LP001603    Male     Yes          0  Not Graduate           Yes             4344         736.000000        87.0             360.0             1.0     Semiurban           N\n",
      "175  LP001606    Male     Yes          0      Graduate            No             3497        1964.000000       116.0             360.0             1.0         Rural           Y\n",
      "176  LP001608    Male     Yes          2      Graduate            No             2045        1619.000000       101.0             360.0             1.0         Rural           Y\n",
      "177  LP001610    Male     Yes         3+      Graduate            No             5516       11300.000000       495.0             360.0             0.0     Semiurban           N\n",
      "178  LP001616    Male     Yes          1      Graduate            No             3750           0.000000       116.0             360.0             1.0     Semiurban           Y\n",
      "179  LP001630    Male      No          0  Not Graduate            No             2333        1451.000000       102.0             480.0             0.0         Urban           N\n",
      "180  LP001633    Male     Yes          1      Graduate            No             6400        7250.000000       180.0             360.0             0.0         Urban           N\n",
      "181  LP001634    Male      No          0      Graduate            No             1916        5063.000000        67.0             360.0             NaN         Rural           N\n",
      "182  LP001636    Male     Yes          0      Graduate            No             4600           0.000000        73.0             180.0             1.0     Semiurban           Y\n",
      "183  LP001637    Male     Yes          1      Graduate            No            33846           0.000000       260.0             360.0             1.0     Semiurban           N\n",
      "184  LP001639  Female     Yes          0      Graduate            No             3625           0.000000       108.0             360.0             1.0     Semiurban           Y\n",
      "185  LP001640    Male     Yes          0      Graduate           Yes            39147        4750.000000       120.0             360.0             1.0     Semiurban           Y\n",
      "186  LP001641    Male     Yes          1      Graduate           Yes             2178           0.000000        66.0             300.0             0.0         Rural           N\n",
      "187  LP001643    Male     Yes          0      Graduate            No             2383        2138.000000        58.0             360.0             NaN         Rural           Y\n",
      "188  LP001644     NaN     Yes          0      Graduate           Yes              674        5296.000000       168.0             360.0             1.0         Rural           Y\n",
      "189  LP001647    Male     Yes          0      Graduate            No             9328           0.000000       188.0             180.0             1.0         Rural           Y\n",
      "190  LP001653    Male      No          0  Not Graduate            No             4885           0.000000        48.0             360.0             1.0         Rural           Y\n",
      "191  LP001656    Male      No          0      Graduate            No            12000           0.000000       164.0             360.0             1.0     Semiurban           N\n",
      "192  LP001657    Male     Yes          0  Not Graduate            No             6033           0.000000       160.0             360.0             1.0         Urban           N\n",
      "193  LP001658    Male      No          0      Graduate            No             3858           0.000000        76.0             360.0             1.0     Semiurban           Y\n",
      "194  LP001664    Male      No          0      Graduate            No             4191           0.000000       120.0             360.0             1.0         Rural           Y\n",
      "195  LP001665    Male     Yes          1      Graduate            No             3125        2583.000000       170.0             360.0             1.0     Semiurban           N\n",
      "196  LP001666    Male      No          0      Graduate            No             8333        3750.000000       187.0             360.0             1.0         Rural           Y\n",
      "197  LP001669  Female      No          0  Not Graduate            No             1907        2365.000000       120.0               NaN             1.0         Urban           Y\n",
      "198  LP001671  Female     Yes          0      Graduate            No             3416        2816.000000       113.0             360.0             NaN     Semiurban           Y\n",
      "199  LP001673    Male      No          0      Graduate           Yes            11000           0.000000        83.0             360.0             1.0         Urban           N\n",
      "200  LP001674    Male     Yes          1  Not Graduate            No             2600        2500.000000        90.0             360.0             1.0     Semiurban           Y\n",
      "201  LP001677    Male      No          2      Graduate            No             4923           0.000000       166.0             360.0             0.0     Semiurban           Y\n",
      "202  LP001682    Male     Yes         3+  Not Graduate            No             3992           0.000000         NaN             180.0             1.0         Urban           N\n",
      "203  LP001688    Male     Yes          1  Not Graduate            No             3500        1083.000000       135.0             360.0             1.0         Urban           Y\n",
      "204  LP001691    Male     Yes          2  Not Graduate            No             3917           0.000000       124.0             360.0             1.0     Semiurban           Y\n",
      "205  LP001692  Female      No          0  Not Graduate            No             4408           0.000000       120.0             360.0             1.0     Semiurban           Y\n",
      "206  LP001693  Female      No          0      Graduate            No             3244           0.000000        80.0             360.0             1.0         Urban           Y\n",
      "207  LP001698    Male      No          0  Not Graduate            No             3975        2531.000000        55.0             360.0             1.0         Rural           Y\n",
      "208  LP001699    Male      No          0      Graduate            No             2479           0.000000        59.0             360.0             1.0         Urban           Y\n",
      "209  LP001702    Male      No          0      Graduate            No             3418           0.000000       127.0             360.0             1.0     Semiurban           N\n",
      "210  LP001708  Female      No          0      Graduate            No            10000           0.000000       214.0             360.0             1.0     Semiurban           N\n",
      "211  LP001711    Male     Yes         3+      Graduate            No             3430        1250.000000       128.0             360.0             0.0     Semiurban           N\n",
      "212  LP001713    Male     Yes          1      Graduate           Yes             7787           0.000000       240.0             360.0             1.0         Urban           Y\n",
      "213  LP001715    Male     Yes         3+  Not Graduate           Yes             5703           0.000000       130.0             360.0             1.0         Rural           Y\n",
      "214  LP001716    Male     Yes          0      Graduate            No             3173        3021.000000       137.0             360.0             1.0         Urban           Y\n",
      "215  LP001720    Male     Yes         3+  Not Graduate            No             3850         983.000000       100.0             360.0             1.0     Semiurban           Y\n",
      "216  LP001722    Male     Yes          0      Graduate            No              150        1800.000000       135.0             360.0             1.0         Rural           N\n",
      "217  LP001726    Male     Yes          0      Graduate            No             3727        1775.000000       131.0             360.0             1.0     Semiurban           Y\n",
      "218  LP001732    Male     Yes          2      Graduate           NaN             5000           0.000000        72.0             360.0             0.0     Semiurban           N\n",
      "219  LP001734  Female     Yes          2      Graduate            No             4283        2383.000000       127.0             360.0             NaN     Semiurban           Y\n",
      "220  LP001736    Male     Yes          0      Graduate            No             2221           0.000000        60.0             360.0             0.0         Urban           N\n",
      "221  LP001743    Male     Yes          2      Graduate            No             4009        1717.000000       116.0             360.0             1.0     Semiurban           Y\n",
      "222  LP001744    Male      No          0      Graduate            No             2971        2791.000000       144.0             360.0             1.0     Semiurban           Y\n",
      "223  LP001749    Male     Yes          0      Graduate            No             7578        1010.000000       175.0               NaN             1.0     Semiurban           Y\n",
      "224  LP001750    Male     Yes          0      Graduate            No             6250           0.000000       128.0             360.0             1.0     Semiurban           Y\n",
      "225  LP001751    Male     Yes          0      Graduate            No             3250           0.000000       170.0             360.0             1.0         Rural           N\n",
      "226  LP001754    Male     Yes        NaN  Not Graduate           Yes             4735           0.000000       138.0             360.0             1.0         Urban           N\n",
      "227  LP001758    Male     Yes          2      Graduate            No             6250        1695.000000       210.0             360.0             1.0     Semiurban           Y\n",
      "228  LP001760    Male     NaN        NaN      Graduate            No             4758           0.000000       158.0             480.0             1.0     Semiurban           Y\n",
      "229  LP001761    Male      No          0      Graduate           Yes             6400           0.000000       200.0             360.0             1.0         Rural           Y\n",
      "230  LP001765    Male     Yes          1      Graduate            No             2491        2054.000000       104.0             360.0             1.0     Semiurban           Y\n",
      "231  LP001768    Male     Yes          0      Graduate           NaN             3716           0.000000        42.0             180.0             1.0         Rural           Y\n",
      "232  LP001770    Male      No          0  Not Graduate            No             3189        2598.000000       120.0               NaN             1.0         Rural           Y\n",
      "233  LP001776  Female      No          0      Graduate            No             8333           0.000000       280.0             360.0             1.0     Semiurban           Y\n",
      "234  LP001778    Male     Yes          1      Graduate            No             3155        1779.000000       140.0             360.0             1.0     Semiurban           Y\n",
      "235  LP001784    Male     Yes          1      Graduate            No             5500        1260.000000       170.0             360.0             1.0         Rural           Y\n",
      "236  LP001786    Male     Yes          0      Graduate           NaN             5746           0.000000       255.0             360.0             NaN         Urban           N\n",
      "237  LP001788  Female      No          0      Graduate           Yes             3463           0.000000       122.0             360.0             NaN         Urban           Y\n",
      "238  LP001790  Female      No          1      Graduate            No             3812           0.000000       112.0             360.0             1.0         Rural           Y\n",
      "239  LP001792    Male     Yes          1      Graduate            No             3315           0.000000        96.0             360.0             1.0     Semiurban           Y\n",
      "240  LP001798    Male     Yes          2      Graduate            No             5819        5000.000000       120.0             360.0             1.0         Rural           Y\n",
      "241  LP001800    Male     Yes          1  Not Graduate            No             2510        1983.000000       140.0             180.0             1.0         Urban           N\n",
      "242  LP001806    Male      No          0      Graduate            No             2965        5701.000000       155.0              60.0             1.0         Urban           Y\n",
      "243  LP001807    Male     Yes          2      Graduate           Yes             6250        1300.000000       108.0             360.0             1.0         Rural           Y\n",
      "244  LP001811    Male     Yes          0  Not Graduate            No             3406        4417.000000       123.0             360.0             1.0     Semiurban           Y\n",
      "245  LP001813    Male      No          0      Graduate           Yes             6050        4333.000000       120.0             180.0             1.0         Urban           N\n",
      "246  LP001814    Male     Yes          2      Graduate            No             9703           0.000000       112.0             360.0             1.0         Urban           Y\n",
      "247  LP001819    Male     Yes          1  Not Graduate            No             6608           0.000000       137.0             180.0             1.0         Urban           Y\n",
      "248  LP001824    Male     Yes          1      Graduate            No             2882        1843.000000       123.0             480.0             1.0     Semiurban           Y\n",
      "249  LP001825    Male     Yes          0      Graduate            No             1809        1868.000000        90.0             360.0             1.0         Urban           Y\n",
      "250  LP001835    Male     Yes          0  Not Graduate            No             1668        3890.000000       201.0             360.0             0.0     Semiurban           N\n",
      "251  LP001836  Female      No          2      Graduate            No             3427           0.000000       138.0             360.0             1.0         Urban           N\n",
      "252  LP001841    Male      No          0  Not Graduate           Yes             2583        2167.000000       104.0             360.0             1.0         Rural           Y\n",
      "253  LP001843    Male     Yes          1  Not Graduate            No             2661        7101.000000       279.0             180.0             1.0     Semiurban           Y\n",
      "254  LP001844    Male      No          0      Graduate           Yes            16250           0.000000       192.0             360.0             0.0         Urban           N\n",
      "255  LP001846  Female      No         3+      Graduate            No             3083           0.000000       255.0             360.0             1.0         Rural           Y\n",
      "256  LP001849    Male      No          0  Not Graduate            No             6045           0.000000       115.0             360.0             0.0         Rural           N\n",
      "257  LP001854    Male     Yes         3+      Graduate            No             5250           0.000000        94.0             360.0             1.0         Urban           N\n",
      "258  LP001859    Male     Yes          0      Graduate            No            14683        2100.000000       304.0             360.0             1.0         Rural           N\n",
      "259  LP001864    Male     Yes         3+  Not Graduate            No             4931           0.000000       128.0             360.0             NaN     Semiurban           N\n",
      "260  LP001865    Male     Yes          1      Graduate            No             6083        4250.000000       330.0             360.0             NaN         Urban           Y\n",
      "261  LP001868    Male      No          0      Graduate            No             2060        2209.000000       134.0             360.0             1.0     Semiurban           Y\n",
      "262  LP001870  Female      No          1      Graduate            No             3481           0.000000       155.0              36.0             1.0     Semiurban           N\n",
      "263  LP001871  Female      No          0      Graduate            No             7200           0.000000       120.0             360.0             1.0         Rural           Y\n",
      "264  LP001872    Male      No          0      Graduate           Yes             5166           0.000000       128.0             360.0             1.0     Semiurban           Y\n",
      "265  LP001875    Male      No          0      Graduate            No             4095        3447.000000       151.0             360.0             1.0         Rural           Y\n",
      "266  LP001877    Male     Yes          2      Graduate            No             4708        1387.000000       150.0             360.0             1.0     Semiurban           Y\n",
      "267  LP001882    Male     Yes         3+      Graduate            No             4333        1811.000000       160.0             360.0             0.0         Urban           Y\n",
      "268  LP001883  Female      No          0      Graduate           NaN             3418           0.000000       135.0             360.0             1.0         Rural           N\n",
      "269  LP001884  Female      No          1      Graduate            No             2876        1560.000000        90.0             360.0             1.0         Urban           Y\n",
      "270  LP001888  Female      No          0      Graduate            No             3237           0.000000        30.0             360.0             1.0         Urban           Y\n",
      "271  LP001891    Male     Yes          0      Graduate            No            11146           0.000000       136.0             360.0             1.0         Urban           Y\n",
      "272  LP001892    Male      No          0      Graduate            No             2833        1857.000000       126.0             360.0             1.0         Rural           Y\n",
      "273  LP001894    Male     Yes          0      Graduate            No             2620        2223.000000       150.0             360.0             1.0     Semiurban           Y\n",
      "274  LP001896    Male     Yes          2      Graduate            No             3900           0.000000        90.0             360.0             1.0     Semiurban           Y\n",
      "275  LP001900    Male     Yes          1      Graduate            No             2750        1842.000000       115.0             360.0             1.0     Semiurban           Y\n",
      "276  LP001903    Male     Yes          0      Graduate            No             3993        3274.000000       207.0             360.0             1.0     Semiurban           Y\n",
      "277  LP001904    Male     Yes          0      Graduate            No             3103        1300.000000        80.0             360.0             1.0         Urban           Y\n",
      "278  LP001907    Male     Yes          0      Graduate            No            14583           0.000000       436.0             360.0             1.0     Semiurban           Y\n",
      "279  LP001908  Female     Yes          0  Not Graduate            No             4100           0.000000       124.0             360.0             NaN         Rural           Y\n",
      "280  LP001910    Male      No          1  Not Graduate           Yes             4053        2426.000000       158.0             360.0             0.0         Urban           N\n",
      "281  LP001914    Male     Yes          0      Graduate            No             3927         800.000000       112.0             360.0             1.0     Semiurban           Y\n",
      "282  LP001915    Male     Yes          2      Graduate            No             2301         985.799988        78.0             180.0             1.0         Urban           Y\n",
      "283  LP001917  Female      No          0      Graduate            No             1811        1666.000000        54.0             360.0             1.0         Urban           Y\n",
      "284  LP001922    Male     Yes          0      Graduate            No            20667           0.000000         NaN             360.0             1.0         Rural           N\n",
      "285  LP001924    Male      No          0      Graduate            No             3158        3053.000000        89.0             360.0             1.0         Rural           Y\n",
      "286  LP001925  Female      No          0      Graduate           Yes             2600        1717.000000        99.0             300.0             1.0     Semiurban           N\n",
      "287  LP001926    Male     Yes          0      Graduate            No             3704        2000.000000       120.0             360.0             1.0         Rural           Y\n",
      "288  LP001931  Female      No          0      Graduate            No             4124           0.000000       115.0             360.0             1.0     Semiurban           Y\n",
      "289  LP001935    Male      No          0      Graduate            No             9508           0.000000       187.0             360.0             1.0         Rural           Y\n",
      "290  LP001936    Male     Yes          0      Graduate            No             3075        2416.000000       139.0             360.0             1.0         Rural           Y\n",
      "291  LP001938    Male     Yes          2      Graduate            No             4400           0.000000       127.0             360.0             0.0     Semiurban           N\n",
      "292  LP001940    Male     Yes          2      Graduate            No             3153        1560.000000       134.0             360.0             1.0         Urban           Y\n",
      "293  LP001945  Female      No        NaN      Graduate            No             5417           0.000000       143.0             480.0             0.0         Urban           N\n",
      "294  LP001947    Male     Yes          0      Graduate            No             2383        3334.000000       172.0             360.0             1.0     Semiurban           Y\n",
      "295  LP001949    Male     Yes         3+      Graduate           NaN             4416        1250.000000       110.0             360.0             1.0         Urban           Y\n",
      "296  LP001953    Male     Yes          1      Graduate            No             6875           0.000000       200.0             360.0             1.0     Semiurban           Y\n",
      "297  LP001954  Female     Yes          1      Graduate            No             4666           0.000000       135.0             360.0             1.0         Urban           Y\n",
      "298  LP001955  Female      No          0      Graduate            No             5000        2541.000000       151.0             480.0             1.0         Rural           N\n",
      "299  LP001963    Male     Yes          1      Graduate            No             2014        2925.000000       113.0             360.0             1.0         Urban           N\n",
      "300  LP001964    Male     Yes          0  Not Graduate            No             1800        2934.000000        93.0             360.0             0.0         Urban           N\n",
      "301  LP001972    Male     Yes        NaN  Not Graduate            No             2875        1750.000000       105.0             360.0             1.0     Semiurban           Y\n",
      "302  LP001974  Female      No          0      Graduate            No             5000           0.000000       132.0             360.0             1.0         Rural           Y\n",
      "303  LP001977    Male     Yes          1      Graduate            No             1625        1803.000000        96.0             360.0             1.0         Urban           Y\n",
      "304  LP001978    Male      No          0      Graduate            No             4000        2500.000000       140.0             360.0             1.0         Rural           Y\n",
      "305  LP001990    Male      No          0  Not Graduate            No             2000           0.000000         NaN             360.0             1.0         Urban           N\n",
      "306  LP001993  Female      No          0      Graduate            No             3762        1666.000000       135.0             360.0             1.0         Rural           Y\n",
      "307  LP001994  Female      No          0      Graduate            No             2400        1863.000000       104.0             360.0             0.0         Urban           N\n",
      "308  LP001996    Male      No          0      Graduate            No            20233           0.000000       480.0             360.0             1.0         Rural           N\n",
      "309  LP001998    Male     Yes          2  Not Graduate            No             7667           0.000000       185.0             360.0             NaN         Rural           Y\n",
      "310  LP002002  Female      No          0      Graduate            No             2917           0.000000        84.0             360.0             1.0     Semiurban           Y\n",
      "311  LP002004    Male      No          0  Not Graduate            No             2927        2405.000000       111.0             360.0             1.0     Semiurban           Y\n",
      "312  LP002006  Female      No          0      Graduate            No             2507           0.000000        56.0             360.0             1.0         Rural           Y\n",
      "313  LP002008    Male     Yes          2      Graduate           Yes             5746           0.000000       144.0              84.0             NaN         Rural           Y\n",
      "314  LP002024     NaN     Yes          0      Graduate            No             2473        1843.000000       159.0             360.0             1.0         Rural           N\n",
      "315  LP002031    Male     Yes          1  Not Graduate            No             3399        1640.000000       111.0             180.0             1.0         Urban           Y\n",
      "316  LP002035    Male     Yes          2      Graduate            No             3717           0.000000       120.0             360.0             1.0     Semiurban           Y\n",
      "317  LP002036    Male     Yes          0      Graduate            No             2058        2134.000000        88.0             360.0             NaN         Urban           Y\n",
      "318  LP002043  Female      No          1      Graduate            No             3541           0.000000       112.0             360.0             NaN     Semiurban           Y\n",
      "319  LP002050    Male     Yes          1      Graduate           Yes            10000           0.000000       155.0             360.0             1.0         Rural           N\n",
      "320  LP002051    Male     Yes          0      Graduate            No             2400        2167.000000       115.0             360.0             1.0     Semiurban           Y\n",
      "321  LP002053    Male     Yes         3+      Graduate            No             4342         189.000000       124.0             360.0             1.0     Semiurban           Y\n",
      "322  LP002054    Male     Yes          2  Not Graduate            No             3601        1590.000000         NaN             360.0             1.0         Rural           Y\n",
      "323  LP002055  Female      No          0      Graduate            No             3166        2985.000000       132.0             360.0             NaN         Rural           Y\n",
      "324  LP002065    Male     Yes         3+      Graduate            No            15000           0.000000       300.0             360.0             1.0         Rural           Y\n",
      "325  LP002067    Male     Yes          1      Graduate           Yes             8666        4983.000000       376.0             360.0             0.0         Rural           N\n",
      "326  LP002068    Male      No          0      Graduate            No             4917           0.000000       130.0             360.0             0.0         Rural           Y\n",
      "327  LP002082    Male     Yes          0      Graduate           Yes             5818        2160.000000       184.0             360.0             1.0     Semiurban           Y\n",
      "328  LP002086  Female     Yes          0      Graduate            No             4333        2451.000000       110.0             360.0             1.0         Urban           N\n",
      "329  LP002087  Female      No          0      Graduate            No             2500           0.000000        67.0             360.0             1.0         Urban           Y\n",
      "330  LP002097    Male      No          1      Graduate            No             4384        1793.000000       117.0             360.0             1.0         Urban           Y\n",
      "331  LP002098    Male      No          0      Graduate            No             2935           0.000000        98.0             360.0             1.0     Semiurban           Y\n",
      "332  LP002100    Male      No        NaN      Graduate            No             2833           0.000000        71.0             360.0             1.0         Urban           Y\n",
      "333  LP002101    Male     Yes          0      Graduate           NaN            63337           0.000000       490.0             180.0             1.0         Urban           Y\n",
      "334  LP002103     NaN     Yes          1      Graduate           Yes             9833        1833.000000       182.0             180.0             1.0         Urban           Y\n",
      "335  LP002106    Male     Yes        NaN      Graduate           Yes             5503        4490.000000        70.0               NaN             1.0     Semiurban           Y\n",
      "336  LP002110    Male     Yes          1      Graduate           NaN             5250         688.000000       160.0             360.0             1.0         Rural           Y\n",
      "337  LP002112    Male     Yes          2      Graduate           Yes             2500        4600.000000       176.0             360.0             1.0         Rural           Y\n",
      "338  LP002113  Female      No         3+  Not Graduate            No             1830           0.000000         NaN             360.0             0.0         Urban           N\n",
      "339  LP002114  Female      No          0      Graduate            No             4160           0.000000        71.0             360.0             1.0     Semiurban           Y\n",
      "340  LP002115    Male     Yes         3+  Not Graduate            No             2647        1587.000000       173.0             360.0             1.0         Rural           N\n",
      "341  LP002116  Female      No          0      Graduate            No             2378           0.000000        46.0             360.0             1.0         Rural           N\n",
      "342  LP002119    Male     Yes          1  Not Graduate            No             4554        1229.000000       158.0             360.0             1.0         Urban           Y\n",
      "343  LP002126    Male     Yes         3+  Not Graduate            No             3173           0.000000        74.0             360.0             1.0     Semiurban           Y\n",
      "344  LP002128    Male     Yes          2      Graduate           NaN             2583        2330.000000       125.0             360.0             1.0         Rural           Y\n",
      "345  LP002129    Male     Yes          0      Graduate            No             2499        2458.000000       160.0             360.0             1.0     Semiurban           Y\n",
      "346  LP002130    Male     Yes        NaN  Not Graduate            No             3523        3230.000000       152.0             360.0             0.0         Rural           N\n",
      "347  LP002131    Male     Yes          2  Not Graduate            No             3083        2168.000000       126.0             360.0             1.0         Urban           Y\n",
      "348  LP002137    Male     Yes          0      Graduate            No             6333        4583.000000       259.0             360.0             NaN     Semiurban           Y\n",
      "349  LP002138    Male     Yes          0      Graduate            No             2625        6250.000000       187.0             360.0             1.0         Rural           Y\n",
      "350  LP002139    Male     Yes          0      Graduate            No             9083           0.000000       228.0             360.0             1.0     Semiurban           Y\n",
      "351  LP002140    Male      No          0      Graduate            No             8750        4167.000000       308.0             360.0             1.0         Rural           N\n",
      "352  LP002141    Male     Yes         3+      Graduate            No             2666        2083.000000        95.0             360.0             1.0         Rural           Y\n",
      "353  LP002142  Female     Yes          0      Graduate           Yes             5500           0.000000       105.0             360.0             0.0         Rural           N\n",
      "354  LP002143  Female     Yes          0      Graduate            No             2423         505.000000       130.0             360.0             1.0     Semiurban           Y\n",
      "355  LP002144  Female      No        NaN      Graduate            No             3813           0.000000       116.0             180.0             1.0         Urban           Y\n",
      "356  LP002149    Male     Yes          2      Graduate            No             8333        3167.000000       165.0             360.0             1.0         Rural           Y\n",
      "357  LP002151    Male     Yes          1      Graduate            No             3875           0.000000        67.0             360.0             1.0         Urban           N\n",
      "358  LP002158    Male     Yes          0  Not Graduate            No             3000        1666.000000       100.0             480.0             0.0         Urban           N\n",
      "359  LP002160    Male     Yes         3+      Graduate            No             5167        3167.000000       200.0             360.0             1.0     Semiurban           Y\n",
      "360  LP002161  Female      No          1      Graduate            No             4723           0.000000        81.0             360.0             1.0     Semiurban           N\n",
      "361  LP002170    Male     Yes          2      Graduate            No             5000        3667.000000       236.0             360.0             1.0     Semiurban           Y\n",
      "362  LP002175    Male     Yes          0      Graduate            No             4750        2333.000000       130.0             360.0             1.0         Urban           Y\n",
      "363  LP002178    Male     Yes          0      Graduate            No             3013        3033.000000        95.0             300.0             NaN         Urban           Y\n",
      "364  LP002180    Male      No          0      Graduate           Yes             6822           0.000000       141.0             360.0             1.0         Rural           Y\n",
      "365  LP002181    Male      No          0  Not Graduate            No             6216           0.000000       133.0             360.0             1.0         Rural           N\n",
      "366  LP002187    Male      No          0      Graduate            No             2500           0.000000        96.0             480.0             1.0     Semiurban           N\n",
      "367  LP002188    Male      No          0      Graduate            No             5124           0.000000       124.0               NaN             0.0         Rural           N\n",
      "368  LP002190    Male     Yes          1      Graduate            No             6325           0.000000       175.0             360.0             1.0     Semiurban           Y\n",
      "369  LP002191    Male     Yes          0      Graduate            No            19730        5266.000000       570.0             360.0             1.0         Rural           N\n",
      "370  LP002194  Female      No          0      Graduate           Yes            15759           0.000000        55.0             360.0             1.0     Semiurban           Y\n",
      "371  LP002197    Male     Yes          2      Graduate            No             5185           0.000000       155.0             360.0             1.0     Semiurban           Y\n",
      "372  LP002201    Male     Yes          2      Graduate           Yes             9323        7873.000000       380.0             300.0             1.0         Rural           Y\n",
      "373  LP002205    Male      No          1      Graduate            No             3062        1987.000000       111.0             180.0             0.0         Urban           N\n",
      "374  LP002209  Female      No          0      Graduate           NaN             2764        1459.000000       110.0             360.0             1.0         Urban           Y\n",
      "375  LP002211    Male     Yes          0      Graduate            No             4817         923.000000       120.0             180.0             1.0         Urban           Y\n",
      "376  LP002219    Male     Yes         3+      Graduate            No             8750        4996.000000       130.0             360.0             1.0         Rural           Y\n",
      "377  LP002223    Male     Yes          0      Graduate            No             4310           0.000000       130.0             360.0             NaN     Semiurban           Y\n",
      "378  LP002224    Male      No          0      Graduate            No             3069           0.000000        71.0             480.0             1.0         Urban           N\n",
      "379  LP002225    Male     Yes          2      Graduate            No             5391           0.000000       130.0             360.0             1.0         Urban           Y\n",
      "380  LP002226    Male     Yes          0      Graduate           NaN             3333        2500.000000       128.0             360.0             1.0     Semiurban           Y\n",
      "381  LP002229    Male      No          0      Graduate            No             5941        4232.000000       296.0             360.0             1.0     Semiurban           Y\n",
      "382  LP002231  Female      No          0      Graduate            No             6000           0.000000       156.0             360.0             1.0         Urban           Y\n",
      "383  LP002234    Male      No          0      Graduate           Yes             7167           0.000000       128.0             360.0             1.0         Urban           Y\n",
      "384  LP002236    Male     Yes          2      Graduate            No             4566           0.000000       100.0             360.0             1.0         Urban           N\n",
      "385  LP002237    Male      No          1      Graduate           NaN             3667           0.000000       113.0             180.0             1.0         Urban           Y\n",
      "386  LP002239    Male      No          0  Not Graduate            No             2346        1600.000000       132.0             360.0             1.0     Semiurban           Y\n",
      "387  LP002243    Male     Yes          0  Not Graduate            No             3010        3136.000000         NaN             360.0             0.0         Urban           N\n",
      "388  LP002244    Male     Yes          0      Graduate            No             2333        2417.000000       136.0             360.0             1.0         Urban           Y\n",
      "389  LP002250    Male     Yes          0      Graduate            No             5488           0.000000       125.0             360.0             1.0         Rural           Y\n",
      "390  LP002255    Male      No         3+      Graduate            No             9167           0.000000       185.0             360.0             1.0         Rural           Y\n",
      "391  LP002262    Male     Yes         3+      Graduate            No             9504           0.000000       275.0             360.0             1.0         Rural           Y\n",
      "392  LP002263    Male     Yes          0      Graduate            No             2583        2115.000000       120.0             360.0             NaN         Urban           Y\n",
      "393  LP002265    Male     Yes          2  Not Graduate            No             1993        1625.000000       113.0             180.0             1.0     Semiurban           Y\n",
      "394  LP002266    Male     Yes          2      Graduate            No             3100        1400.000000       113.0             360.0             1.0         Urban           Y\n",
      "395  LP002272    Male     Yes          2      Graduate            No             3276         484.000000       135.0             360.0             NaN     Semiurban           Y\n",
      "396  LP002277  Female      No          0      Graduate            No             3180           0.000000        71.0             360.0             0.0         Urban           N\n",
      "397  LP002281    Male     Yes          0      Graduate            No             3033        1459.000000        95.0             360.0             1.0         Urban           Y\n",
      "398  LP002284    Male      No          0  Not Graduate            No             3902        1666.000000       109.0             360.0             1.0         Rural           Y\n",
      "399  LP002287  Female      No          0      Graduate            No             1500        1800.000000       103.0             360.0             0.0     Semiurban           N\n",
      "400  LP002288    Male     Yes          2  Not Graduate            No             2889           0.000000        45.0             180.0             0.0         Urban           N\n",
      "401  LP002296    Male      No          0  Not Graduate            No             2755           0.000000        65.0             300.0             1.0         Rural           N\n",
      "402  LP002297    Male      No          0      Graduate            No             2500       20000.000000       103.0             360.0             1.0     Semiurban           Y\n",
      "403  LP002300  Female      No          0  Not Graduate            No             1963           0.000000        53.0             360.0             1.0     Semiurban           Y\n",
      "404  LP002301  Female      No          0      Graduate           Yes             7441           0.000000       194.0             360.0             1.0         Rural           N\n",
      "405  LP002305  Female      No          0      Graduate            No             4547           0.000000       115.0             360.0             1.0     Semiurban           Y\n",
      "406  LP002308    Male     Yes          0  Not Graduate            No             2167        2400.000000       115.0             360.0             1.0         Urban           Y\n",
      "407  LP002314  Female      No          0  Not Graduate            No             2213           0.000000        66.0             360.0             1.0         Rural           Y\n",
      "408  LP002315    Male     Yes          1      Graduate            No             8300           0.000000       152.0             300.0             0.0     Semiurban           N\n",
      "409  LP002317    Male     Yes         3+      Graduate            No            81000           0.000000       360.0             360.0             0.0         Rural           N\n",
      "410  LP002318  Female      No          1  Not Graduate           Yes             3867           0.000000        62.0             360.0             1.0     Semiurban           N\n",
      "411  LP002319    Male     Yes          0      Graduate           NaN             6256           0.000000       160.0             360.0             NaN         Urban           Y\n",
      "412  LP002328    Male     Yes          0  Not Graduate            No             6096           0.000000       218.0             360.0             0.0         Rural           N\n",
      "413  LP002332    Male     Yes          0  Not Graduate            No             2253        2033.000000       110.0             360.0             1.0         Rural           Y\n",
      "414  LP002335  Female     Yes          0  Not Graduate            No             2149        3237.000000       178.0             360.0             0.0     Semiurban           N\n",
      "415  LP002337  Female      No          0      Graduate            No             2995           0.000000        60.0             360.0             1.0         Urban           Y\n",
      "416  LP002341  Female      No          1      Graduate            No             2600           0.000000       160.0             360.0             1.0         Urban           N\n",
      "417  LP002342    Male     Yes          2      Graduate           Yes             1600       20000.000000       239.0             360.0             1.0         Urban           N\n",
      "418  LP002345    Male     Yes          0      Graduate            No             1025        2773.000000       112.0             360.0             1.0         Rural           Y\n",
      "419  LP002347    Male     Yes          0      Graduate            No             3246        1417.000000       138.0             360.0             1.0     Semiurban           Y\n",
      "420  LP002348    Male     Yes          0      Graduate            No             5829           0.000000       138.0             360.0             1.0         Rural           Y\n",
      "421  LP002357  Female      No          0  Not Graduate            No             2720           0.000000        80.0               NaN             0.0         Urban           N\n",
      "422  LP002361    Male     Yes          0      Graduate            No             1820        1719.000000       100.0             360.0             1.0         Urban           Y\n",
      "423  LP002362    Male     Yes          1      Graduate            No             7250        1667.000000       110.0               NaN             0.0         Urban           N\n",
      "424  LP002364    Male     Yes          0      Graduate            No            14880           0.000000        96.0             360.0             1.0     Semiurban           Y\n",
      "425  LP002366    Male     Yes          0      Graduate            No             2666        4300.000000       121.0             360.0             1.0         Rural           Y\n",
      "426  LP002367  Female      No          1  Not Graduate            No             4606           0.000000        81.0             360.0             1.0         Rural           N\n",
      "427  LP002368    Male     Yes          2      Graduate            No             5935           0.000000       133.0             360.0             1.0     Semiurban           Y\n",
      "428  LP002369    Male     Yes          0      Graduate            No             2920          16.120001        87.0             360.0             1.0         Rural           Y\n",
      "429  LP002370    Male      No          0  Not Graduate            No             2717           0.000000        60.0             180.0             1.0         Urban           Y\n",
      "430  LP002377  Female      No          1      Graduate           Yes             8624           0.000000       150.0             360.0             1.0     Semiurban           Y\n",
      "431  LP002379    Male      No          0      Graduate            No             6500           0.000000       105.0             360.0             0.0         Rural           N\n",
      "432  LP002386    Male      No          0      Graduate           NaN            12876           0.000000       405.0             360.0             1.0     Semiurban           Y\n",
      "433  LP002387    Male     Yes          0      Graduate            No             2425        2340.000000       143.0             360.0             1.0     Semiurban           Y\n",
      "434  LP002390    Male      No          0      Graduate            No             3750           0.000000       100.0             360.0             1.0         Urban           Y\n",
      "435  LP002393  Female     NaN        NaN      Graduate            No            10047           0.000000         NaN             240.0             1.0     Semiurban           Y\n",
      "436  LP002398    Male      No          0      Graduate            No             1926        1851.000000        50.0             360.0             1.0     Semiurban           Y\n",
      "437  LP002401    Male     Yes          0      Graduate            No             2213        1125.000000         NaN             360.0             1.0         Urban           Y\n",
      "438  LP002403    Male      No          0      Graduate           Yes            10416           0.000000       187.0             360.0             0.0         Urban           N\n",
      "439  LP002407  Female     Yes          0  Not Graduate           Yes             7142           0.000000       138.0             360.0             1.0         Rural           Y\n",
      "440  LP002408    Male      No          0      Graduate            No             3660        5064.000000       187.0             360.0             1.0     Semiurban           Y\n",
      "441  LP002409    Male     Yes          0      Graduate            No             7901        1833.000000       180.0             360.0             1.0         Rural           Y\n",
      "442  LP002418    Male      No         3+  Not Graduate            No             4707        1993.000000       148.0             360.0             1.0     Semiurban           Y\n",
      "443  LP002422    Male      No          1      Graduate            No            37719           0.000000       152.0             360.0             1.0     Semiurban           Y\n",
      "444  LP002424    Male     Yes          0      Graduate            No             7333        8333.000000       175.0             300.0             NaN         Rural           Y\n",
      "445  LP002429    Male     Yes          1      Graduate           Yes             3466        1210.000000       130.0             360.0             1.0         Rural           Y\n",
      "446  LP002434    Male     Yes          2  Not Graduate            No             4652           0.000000       110.0             360.0             1.0         Rural           Y\n",
      "447  LP002435    Male     Yes          0      Graduate           NaN             3539        1376.000000        55.0             360.0             1.0         Rural           N\n",
      "448  LP002443    Male     Yes          2      Graduate            No             3340        1710.000000       150.0             360.0             0.0         Rural           N\n",
      "449  LP002444    Male      No          1  Not Graduate           Yes             2769        1542.000000       190.0             360.0             NaN     Semiurban           N\n",
      "450  LP002446    Male     Yes          2  Not Graduate            No             2309        1255.000000       125.0             360.0             0.0         Rural           N\n",
      "451  LP002447    Male     Yes          2  Not Graduate            No             1958        1456.000000        60.0             300.0             NaN         Urban           Y\n",
      "452  LP002448    Male     Yes          0      Graduate            No             3948        1733.000000       149.0             360.0             0.0         Rural           N\n",
      "453  LP002449    Male     Yes          0      Graduate            No             2483        2466.000000        90.0             180.0             0.0         Rural           Y\n",
      "454  LP002453    Male      No          0      Graduate           Yes             7085           0.000000        84.0             360.0             1.0     Semiurban           Y\n",
      "455  LP002455    Male     Yes          2      Graduate            No             3859           0.000000        96.0             360.0             1.0     Semiurban           Y\n",
      "456  LP002459    Male     Yes          0      Graduate            No             4301           0.000000       118.0             360.0             1.0         Urban           Y\n",
      "457  LP002467    Male     Yes          0      Graduate            No             3708        2569.000000       173.0             360.0             1.0         Urban           N\n",
      "458  LP002472    Male      No          2      Graduate            No             4354           0.000000       136.0             360.0             1.0         Rural           Y\n",
      "459  LP002473    Male     Yes          0      Graduate            No             8334           0.000000       160.0             360.0             1.0     Semiurban           N\n",
      "460  LP002478     NaN     Yes          0      Graduate           Yes             2083        4083.000000       160.0             360.0             NaN     Semiurban           Y\n",
      "461  LP002484    Male     Yes         3+      Graduate            No             7740           0.000000       128.0             180.0             1.0         Urban           Y\n",
      "462  LP002487    Male     Yes          0      Graduate            No             3015        2188.000000       153.0             360.0             1.0         Rural           Y\n",
      "463  LP002489  Female      No          1  Not Graduate           NaN             5191           0.000000       132.0             360.0             1.0     Semiurban           Y\n",
      "464  LP002493    Male      No          0      Graduate            No             4166           0.000000        98.0             360.0             0.0     Semiurban           N\n",
      "465  LP002494    Male      No          0      Graduate            No             6000           0.000000       140.0             360.0             1.0         Rural           Y\n",
      "466  LP002500    Male     Yes         3+  Not Graduate            No             2947        1664.000000        70.0             180.0             0.0         Urban           N\n",
      "467  LP002501     NaN     Yes          0      Graduate            No            16692           0.000000       110.0             360.0             1.0     Semiurban           Y\n",
      "468  LP002502  Female     Yes          2  Not Graduate           NaN              210        2917.000000        98.0             360.0             1.0     Semiurban           Y\n",
      "469  LP002505    Male     Yes          0      Graduate            No             4333        2451.000000       110.0             360.0             1.0         Urban           N\n",
      "470  LP002515    Male     Yes          1      Graduate           Yes             3450        2079.000000       162.0             360.0             1.0     Semiurban           Y\n",
      "471  LP002517    Male     Yes          1  Not Graduate            No             2653        1500.000000       113.0             180.0             0.0         Rural           N\n",
      "472  LP002519    Male     Yes         3+      Graduate            No             4691           0.000000       100.0             360.0             1.0     Semiurban           Y\n",
      "473  LP002522  Female      No          0      Graduate           Yes             2500           0.000000        93.0             360.0             NaN         Urban           Y\n",
      "474  LP002524    Male      No          2      Graduate            No             5532        4648.000000       162.0             360.0             1.0         Rural           Y\n",
      "475  LP002527    Male     Yes          2      Graduate           Yes            16525        1014.000000       150.0             360.0             1.0         Rural           Y\n",
      "476  LP002529    Male     Yes          2      Graduate            No             6700        1750.000000       230.0             300.0             1.0     Semiurban           Y\n",
      "477  LP002530     NaN     Yes          2      Graduate            No             2873        1872.000000       132.0             360.0             0.0     Semiurban           N\n",
      "478  LP002531    Male     Yes          1      Graduate           Yes            16667        2250.000000        86.0             360.0             1.0     Semiurban           Y\n",
      "479  LP002533    Male     Yes          2      Graduate            No             2947        1603.000000         NaN             360.0             1.0         Urban           N\n",
      "480  LP002534  Female      No          0  Not Graduate            No             4350           0.000000       154.0             360.0             1.0         Rural           Y\n",
      "481  LP002536    Male     Yes         3+  Not Graduate            No             3095           0.000000       113.0             360.0             1.0         Rural           Y\n",
      "482  LP002537    Male     Yes          0      Graduate            No             2083        3150.000000       128.0             360.0             1.0     Semiurban           Y\n",
      "483  LP002541    Male     Yes          0      Graduate            No            10833           0.000000       234.0             360.0             1.0     Semiurban           Y\n",
      "484  LP002543    Male     Yes          2      Graduate            No             8333           0.000000       246.0             360.0             1.0     Semiurban           Y\n",
      "485  LP002544    Male     Yes          1  Not Graduate            No             1958        2436.000000       131.0             360.0             1.0         Rural           Y\n",
      "486  LP002545    Male      No          2      Graduate            No             3547           0.000000        80.0             360.0             0.0         Rural           N\n",
      "487  LP002547    Male     Yes          1      Graduate            No            18333           0.000000       500.0             360.0             1.0         Urban           N\n",
      "488  LP002555    Male     Yes          2      Graduate           Yes             4583        2083.000000       160.0             360.0             1.0     Semiurban           Y\n",
      "489  LP002556    Male      No          0      Graduate            No             2435           0.000000        75.0             360.0             1.0         Urban           N\n",
      "490  LP002560    Male      No          0  Not Graduate            No             2699        2785.000000        96.0             360.0             NaN     Semiurban           Y\n",
      "491  LP002562    Male     Yes          1  Not Graduate            No             5333        1131.000000       186.0             360.0             NaN         Urban           Y\n",
      "492  LP002571    Male      No          0  Not Graduate            No             3691           0.000000       110.0             360.0             1.0         Rural           Y\n",
      "493  LP002582  Female      No          0  Not Graduate           Yes            17263           0.000000       225.0             360.0             1.0     Semiurban           Y\n",
      "494  LP002585    Male     Yes          0      Graduate            No             3597        2157.000000       119.0             360.0             0.0         Rural           N\n",
      "495  LP002586  Female     Yes          1      Graduate            No             3326         913.000000       105.0              84.0             1.0     Semiurban           Y\n",
      "496  LP002587    Male     Yes          0  Not Graduate            No             2600        1700.000000       107.0             360.0             1.0         Rural           Y\n",
      "497  LP002588    Male     Yes          0      Graduate            No             4625        2857.000000       111.0              12.0             NaN         Urban           Y\n",
      "498  LP002600    Male     Yes          1      Graduate           Yes             2895           0.000000        95.0             360.0             1.0     Semiurban           Y\n",
      "499  LP002602    Male      No          0      Graduate            No             6283        4416.000000       209.0             360.0             0.0         Rural           N\n",
      "500  LP002603  Female      No          0      Graduate            No              645        3683.000000       113.0             480.0             1.0         Rural           Y\n",
      "501  LP002606  Female      No          0      Graduate            No             3159           0.000000       100.0             360.0             1.0     Semiurban           Y\n",
      "502  LP002615    Male     Yes          2      Graduate            No             4865        5624.000000       208.0             360.0             1.0     Semiurban           Y\n",
      "503  LP002618    Male     Yes          1  Not Graduate            No             4050        5302.000000       138.0             360.0             NaN         Rural           N\n",
      "504  LP002619    Male     Yes          0  Not Graduate            No             3814        1483.000000       124.0             300.0             1.0     Semiurban           Y\n",
      "505  LP002622    Male     Yes          2      Graduate            No             3510        4416.000000       243.0             360.0             1.0         Rural           Y\n",
      "506  LP002624    Male     Yes          0      Graduate            No            20833        6667.000000       480.0             360.0             NaN         Urban           Y\n",
      "507  LP002625     NaN      No          0      Graduate            No             3583           0.000000        96.0             360.0             1.0         Urban           N\n",
      "508  LP002626    Male     Yes          0      Graduate           Yes             2479        3013.000000       188.0             360.0             1.0         Urban           Y\n",
      "509  LP002634  Female      No          1      Graduate            No            13262           0.000000        40.0             360.0             1.0         Urban           Y\n",
      "510  LP002637    Male      No          0  Not Graduate            No             3598        1287.000000       100.0             360.0             1.0         Rural           N\n",
      "511  LP002640    Male     Yes          1      Graduate            No             6065        2004.000000       250.0             360.0             1.0     Semiurban           Y\n",
      "512  LP002643    Male     Yes          2      Graduate            No             3283        2035.000000       148.0             360.0             1.0         Urban           Y\n",
      "513  LP002648    Male     Yes          0      Graduate            No             2130        6666.000000        70.0             180.0             1.0     Semiurban           N\n",
      "514  LP002652    Male      No          0      Graduate            No             5815        3666.000000       311.0             360.0             1.0         Rural           N\n",
      "515  LP002659    Male     Yes         3+      Graduate            No             3466        3428.000000       150.0             360.0             1.0         Rural           Y\n",
      "516  LP002670  Female     Yes          2      Graduate            No             2031        1632.000000       113.0             480.0             1.0     Semiurban           Y\n",
      "517  LP002682    Male     Yes        NaN  Not Graduate            No             3074        1800.000000       123.0             360.0             0.0     Semiurban           N\n",
      "518  LP002683    Male      No          0      Graduate            No             4683        1915.000000       185.0             360.0             1.0     Semiurban           N\n",
      "519  LP002684  Female      No          0  Not Graduate            No             3400           0.000000        95.0             360.0             1.0         Rural           N\n",
      "520  LP002689    Male     Yes          2  Not Graduate            No             2192        1742.000000        45.0             360.0             1.0     Semiurban           Y\n",
      "521  LP002690    Male      No          0      Graduate            No             2500           0.000000        55.0             360.0             1.0     Semiurban           Y\n",
      "522  LP002692    Male     Yes         3+      Graduate           Yes             5677        1424.000000       100.0             360.0             1.0         Rural           Y\n",
      "523  LP002693    Male     Yes          2      Graduate           Yes             7948        7166.000000       480.0             360.0             1.0         Rural           Y\n",
      "524  LP002697    Male      No          0      Graduate            No             4680        2087.000000         NaN             360.0             1.0     Semiurban           N\n",
      "525  LP002699    Male     Yes          2      Graduate           Yes            17500           0.000000       400.0             360.0             1.0         Rural           Y\n",
      "526  LP002705    Male     Yes          0      Graduate            No             3775           0.000000       110.0             360.0             1.0     Semiurban           Y\n",
      "527  LP002706    Male     Yes          1  Not Graduate            No             5285        1430.000000       161.0             360.0             0.0     Semiurban           Y\n",
      "528  LP002714    Male      No          1  Not Graduate            No             2679        1302.000000        94.0             360.0             1.0     Semiurban           Y\n",
      "529  LP002716    Male      No          0  Not Graduate            No             6783           0.000000       130.0             360.0             1.0     Semiurban           Y\n",
      "530  LP002717    Male     Yes          0      Graduate            No             1025        5500.000000       216.0             360.0             NaN         Rural           Y\n",
      "531  LP002720    Male     Yes         3+      Graduate            No             4281           0.000000       100.0             360.0             1.0         Urban           Y\n",
      "532  LP002723    Male      No          2      Graduate            No             3588           0.000000       110.0             360.0             0.0         Rural           N\n",
      "533  LP002729    Male      No          1      Graduate            No            11250           0.000000       196.0             360.0             NaN     Semiurban           N\n",
      "534  LP002731  Female      No          0  Not Graduate           Yes            18165           0.000000       125.0             360.0             1.0         Urban           Y\n",
      "535  LP002732    Male      No          0  Not Graduate           NaN             2550        2042.000000       126.0             360.0             1.0         Rural           Y\n",
      "536  LP002734    Male     Yes          0      Graduate            No             6133        3906.000000       324.0             360.0             1.0         Urban           Y\n",
      "537  LP002738    Male      No          2      Graduate            No             3617           0.000000       107.0             360.0             1.0     Semiurban           Y\n",
      "538  LP002739    Male     Yes          0  Not Graduate            No             2917         536.000000        66.0             360.0             1.0         Rural           N\n",
      "539  LP002740    Male     Yes         3+      Graduate            No             6417           0.000000       157.0             180.0             1.0         Rural           Y\n",
      "540  LP002741  Female     Yes          1      Graduate            No             4608        2845.000000       140.0             180.0             1.0     Semiurban           Y\n",
      "541  LP002743  Female      No          0      Graduate            No             2138           0.000000        99.0             360.0             0.0     Semiurban           N\n",
      "542  LP002753  Female      No          1      Graduate           NaN             3652           0.000000        95.0             360.0             1.0     Semiurban           Y\n",
      "543  LP002755    Male     Yes          1  Not Graduate            No             2239        2524.000000       128.0             360.0             1.0         Urban           Y\n",
      "544  LP002757  Female     Yes          0  Not Graduate            No             3017         663.000000       102.0             360.0             NaN     Semiurban           Y\n",
      "545  LP002767    Male     Yes          0      Graduate            No             2768        1950.000000       155.0             360.0             1.0         Rural           Y\n",
      "546  LP002768    Male      No          0  Not Graduate            No             3358           0.000000        80.0              36.0             1.0     Semiurban           N\n",
      "547  LP002772    Male      No          0      Graduate            No             2526        1783.000000       145.0             360.0             1.0         Rural           Y\n",
      "548  LP002776  Female      No          0      Graduate            No             5000           0.000000       103.0             360.0             0.0     Semiurban           N\n",
      "549  LP002777    Male     Yes          0      Graduate            No             2785        2016.000000       110.0             360.0             1.0         Rural           Y\n",
      "550  LP002778    Male     Yes          2      Graduate           Yes             6633           0.000000         NaN             360.0             0.0         Rural           N\n",
      "551  LP002784    Male     Yes          1  Not Graduate            No             2492        2375.000000         NaN             360.0             1.0         Rural           Y\n",
      "552  LP002785    Male     Yes          1      Graduate            No             3333        3250.000000       158.0             360.0             1.0         Urban           Y\n",
      "553  LP002788    Male     Yes          0  Not Graduate            No             2454        2333.000000       181.0             360.0             0.0         Urban           N\n",
      "554  LP002789    Male     Yes          0      Graduate            No             3593        4266.000000       132.0             180.0             0.0         Rural           N\n",
      "555  LP002792    Male     Yes          1      Graduate            No             5468        1032.000000        26.0             360.0             1.0     Semiurban           Y\n",
      "556  LP002794  Female      No          0      Graduate            No             2667        1625.000000        84.0             360.0             NaN         Urban           Y\n",
      "557  LP002795    Male     Yes         3+      Graduate           Yes            10139           0.000000       260.0             360.0             1.0     Semiurban           Y\n",
      "558  LP002798    Male     Yes          0      Graduate            No             3887        2669.000000       162.0             360.0             1.0     Semiurban           Y\n",
      "559  LP002804  Female     Yes          0      Graduate            No             4180        2306.000000       182.0             360.0             1.0     Semiurban           Y\n",
      "560  LP002807    Male     Yes          2  Not Graduate            No             3675         242.000000       108.0             360.0             1.0     Semiurban           Y\n",
      "561  LP002813  Female     Yes          1      Graduate           Yes            19484           0.000000       600.0             360.0             1.0     Semiurban           Y\n",
      "562  LP002820    Male     Yes          0      Graduate            No             5923        2054.000000       211.0             360.0             1.0         Rural           Y\n",
      "563  LP002821    Male      No          0  Not Graduate           Yes             5800           0.000000       132.0             360.0             1.0     Semiurban           Y\n",
      "564  LP002832    Male     Yes          2      Graduate            No             8799           0.000000       258.0             360.0             0.0         Urban           N\n",
      "565  LP002833    Male     Yes          0  Not Graduate            No             4467           0.000000       120.0             360.0             NaN         Rural           Y\n",
      "566  LP002836    Male      No          0      Graduate            No             3333           0.000000        70.0             360.0             1.0         Urban           Y\n",
      "567  LP002837    Male     Yes         3+      Graduate            No             3400        2500.000000       123.0             360.0             0.0         Rural           N\n",
      "568  LP002840  Female      No          0      Graduate            No             2378           0.000000         9.0             360.0             1.0         Urban           N\n",
      "569  LP002841    Male     Yes          0      Graduate            No             3166        2064.000000       104.0             360.0             0.0         Urban           N\n",
      "570  LP002842    Male     Yes          1      Graduate            No             3417        1750.000000       186.0             360.0             1.0         Urban           Y\n",
      "571  LP002847    Male     Yes        NaN      Graduate            No             5116        1451.000000       165.0             360.0             0.0         Urban           N\n",
      "572  LP002855    Male     Yes          2      Graduate            No            16666           0.000000       275.0             360.0             1.0         Urban           Y\n",
      "573  LP002862    Male     Yes          2  Not Graduate            No             6125        1625.000000       187.0             480.0             1.0     Semiurban           N\n",
      "574  LP002863    Male     Yes         3+      Graduate            No             6406           0.000000       150.0             360.0             1.0     Semiurban           N\n",
      "575  LP002868    Male     Yes          2      Graduate            No             3159         461.000000       108.0              84.0             1.0         Urban           Y\n",
      "576  LP002872     NaN     Yes          0      Graduate            No             3087        2210.000000       136.0             360.0             0.0     Semiurban           N\n",
      "577  LP002874    Male      No          0      Graduate            No             3229        2739.000000       110.0             360.0             1.0         Urban           Y\n",
      "578  LP002877    Male     Yes          1      Graduate            No             1782        2232.000000       107.0             360.0             1.0         Rural           Y\n",
      "579  LP002888    Male      No          0      Graduate           NaN             3182        2917.000000       161.0             360.0             1.0         Urban           Y\n",
      "580  LP002892    Male     Yes          2      Graduate            No             6540           0.000000       205.0             360.0             1.0     Semiurban           Y\n",
      "581  LP002893    Male      No          0      Graduate            No             1836       33837.000000        90.0             360.0             1.0         Urban           N\n",
      "582  LP002894  Female     Yes          0      Graduate            No             3166           0.000000        36.0             360.0             1.0     Semiurban           Y\n",
      "583  LP002898    Male     Yes          1      Graduate            No             1880           0.000000        61.0             360.0             NaN         Rural           N\n",
      "584  LP002911    Male     Yes          1      Graduate            No             2787        1917.000000       146.0             360.0             0.0         Rural           N\n",
      "585  LP002912    Male     Yes          1      Graduate            No             4283        3000.000000       172.0              84.0             1.0         Rural           N\n",
      "586  LP002916    Male     Yes          0      Graduate            No             2297        1522.000000       104.0             360.0             1.0         Urban           Y\n",
      "587  LP002917  Female      No          0  Not Graduate            No             2165           0.000000        70.0             360.0             1.0     Semiurban           Y\n",
      "588  LP002925     NaN      No          0      Graduate            No             4750           0.000000        94.0             360.0             1.0     Semiurban           Y\n",
      "589  LP002926    Male     Yes          2      Graduate           Yes             2726           0.000000       106.0             360.0             0.0     Semiurban           N\n",
      "590  LP002928    Male     Yes          0      Graduate            No             3000        3416.000000        56.0             180.0             1.0     Semiurban           Y\n",
      "591  LP002931    Male     Yes          2      Graduate           Yes             6000           0.000000       205.0             240.0             1.0     Semiurban           N\n",
      "592  LP002933     NaN      No         3+      Graduate           Yes             9357           0.000000       292.0             360.0             1.0     Semiurban           Y\n",
      "593  LP002936    Male     Yes          0      Graduate            No             3859        3300.000000       142.0             180.0             1.0         Rural           Y\n",
      "594  LP002938    Male     Yes          0      Graduate           Yes            16120           0.000000       260.0             360.0             1.0         Urban           Y\n",
      "595  LP002940    Male      No          0  Not Graduate            No             3833           0.000000       110.0             360.0             1.0         Rural           Y\n",
      "596  LP002941    Male     Yes          2  Not Graduate           Yes             6383        1000.000000       187.0             360.0             1.0         Rural           N\n",
      "597  LP002943    Male      No        NaN      Graduate            No             2987           0.000000        88.0             360.0             0.0     Semiurban           N\n",
      "598  LP002945    Male     Yes          0      Graduate           Yes             9963           0.000000       180.0             360.0             1.0         Rural           Y\n",
      "599  LP002948    Male     Yes          2      Graduate            No             5780           0.000000       192.0             360.0             1.0         Urban           Y\n",
      "600  LP002949  Female      No         3+      Graduate           NaN              416       41667.000000       350.0             180.0             NaN         Urban           N\n",
      "601  LP002950    Male     Yes          0  Not Graduate           NaN             2894        2792.000000       155.0             360.0             1.0         Rural           Y\n",
      "602  LP002953    Male     Yes         3+      Graduate            No             5703           0.000000       128.0             360.0             1.0         Urban           Y\n",
      "603  LP002958    Male      No          0      Graduate            No             3676        4301.000000       172.0             360.0             1.0         Rural           Y\n",
      "604  LP002959  Female     Yes          1      Graduate            No            12000           0.000000       496.0             360.0             1.0     Semiurban           Y\n",
      "605  LP002960    Male     Yes          0  Not Graduate            No             2400        3800.000000         NaN             180.0             1.0         Urban           N\n",
      "606  LP002961    Male     Yes          1      Graduate            No             3400        2500.000000       173.0             360.0             1.0     Semiurban           Y\n",
      "607  LP002964    Male     Yes          2  Not Graduate            No             3987        1411.000000       157.0             360.0             1.0         Rural           Y\n",
      "608  LP002974    Male     Yes          0      Graduate            No             3232        1950.000000       108.0             360.0             1.0         Rural           Y\n",
      "609  LP002978  Female      No          0      Graduate            No             2900           0.000000        71.0             360.0             1.0         Rural           Y\n",
      "610  LP002979    Male     Yes         3+      Graduate            No             4106           0.000000        40.0             180.0             1.0         Rural           Y\n",
      "611  LP002983    Male     Yes          1      Graduate            No             8072         240.000000       253.0             360.0             1.0         Urban           Y\n",
      "612  LP002984    Male     Yes          2      Graduate            No             7583           0.000000       187.0             360.0             1.0         Urban           Y\n",
      "613  LP002990  Female      No          0      Graduate           Yes             4583           0.000000       133.0             360.0             0.0     Semiurban           N\n"
     ]
    }
   ],
   "source": [
    "print(df.to_string())"
   ]
  },
  {
   "cell_type": "code",
   "execution_count": 5,
   "id": "440ecbcf",
   "metadata": {},
   "outputs": [
    {
     "data": {
      "text/html": [
       "<div>\n",
       "<style scoped>\n",
       "    .dataframe tbody tr th:only-of-type {\n",
       "        vertical-align: middle;\n",
       "    }\n",
       "\n",
       "    .dataframe tbody tr th {\n",
       "        vertical-align: top;\n",
       "    }\n",
       "\n",
       "    .dataframe thead th {\n",
       "        text-align: right;\n",
       "    }\n",
       "</style>\n",
       "<table border=\"1\" class=\"dataframe\">\n",
       "  <thead>\n",
       "    <tr style=\"text-align: right;\">\n",
       "      <th></th>\n",
       "      <th>Loan_ID</th>\n",
       "      <th>Gender</th>\n",
       "      <th>Married</th>\n",
       "      <th>Dependents</th>\n",
       "      <th>Education</th>\n",
       "      <th>Self_Employed</th>\n",
       "      <th>ApplicantIncome</th>\n",
       "      <th>CoapplicantIncome</th>\n",
       "      <th>LoanAmount</th>\n",
       "      <th>Loan_Amount_Term</th>\n",
       "      <th>Credit_History</th>\n",
       "      <th>Property_Area</th>\n",
       "      <th>Loan_Status</th>\n",
       "    </tr>\n",
       "  </thead>\n",
       "  <tbody>\n",
       "    <tr>\n",
       "      <th>0</th>\n",
       "      <td>LP001002</td>\n",
       "      <td>Male</td>\n",
       "      <td>No</td>\n",
       "      <td>0</td>\n",
       "      <td>Graduate</td>\n",
       "      <td>No</td>\n",
       "      <td>5849</td>\n",
       "      <td>0.0</td>\n",
       "      <td>NaN</td>\n",
       "      <td>360.0</td>\n",
       "      <td>1.0</td>\n",
       "      <td>Urban</td>\n",
       "      <td>Y</td>\n",
       "    </tr>\n",
       "    <tr>\n",
       "      <th>1</th>\n",
       "      <td>LP001003</td>\n",
       "      <td>Male</td>\n",
       "      <td>Yes</td>\n",
       "      <td>1</td>\n",
       "      <td>Graduate</td>\n",
       "      <td>No</td>\n",
       "      <td>4583</td>\n",
       "      <td>1508.0</td>\n",
       "      <td>128.0</td>\n",
       "      <td>360.0</td>\n",
       "      <td>1.0</td>\n",
       "      <td>Rural</td>\n",
       "      <td>N</td>\n",
       "    </tr>\n",
       "    <tr>\n",
       "      <th>2</th>\n",
       "      <td>LP001005</td>\n",
       "      <td>Male</td>\n",
       "      <td>Yes</td>\n",
       "      <td>0</td>\n",
       "      <td>Graduate</td>\n",
       "      <td>Yes</td>\n",
       "      <td>3000</td>\n",
       "      <td>0.0</td>\n",
       "      <td>66.0</td>\n",
       "      <td>360.0</td>\n",
       "      <td>1.0</td>\n",
       "      <td>Urban</td>\n",
       "      <td>Y</td>\n",
       "    </tr>\n",
       "    <tr>\n",
       "      <th>3</th>\n",
       "      <td>LP001006</td>\n",
       "      <td>Male</td>\n",
       "      <td>Yes</td>\n",
       "      <td>0</td>\n",
       "      <td>Not Graduate</td>\n",
       "      <td>No</td>\n",
       "      <td>2583</td>\n",
       "      <td>2358.0</td>\n",
       "      <td>120.0</td>\n",
       "      <td>360.0</td>\n",
       "      <td>1.0</td>\n",
       "      <td>Urban</td>\n",
       "      <td>Y</td>\n",
       "    </tr>\n",
       "    <tr>\n",
       "      <th>4</th>\n",
       "      <td>LP001008</td>\n",
       "      <td>Male</td>\n",
       "      <td>No</td>\n",
       "      <td>0</td>\n",
       "      <td>Graduate</td>\n",
       "      <td>No</td>\n",
       "      <td>6000</td>\n",
       "      <td>0.0</td>\n",
       "      <td>141.0</td>\n",
       "      <td>360.0</td>\n",
       "      <td>1.0</td>\n",
       "      <td>Urban</td>\n",
       "      <td>Y</td>\n",
       "    </tr>\n",
       "  </tbody>\n",
       "</table>\n",
       "</div>"
      ],
      "text/plain": [
       "    Loan_ID Gender Married Dependents     Education Self_Employed  \\\n",
       "0  LP001002   Male      No          0      Graduate            No   \n",
       "1  LP001003   Male     Yes          1      Graduate            No   \n",
       "2  LP001005   Male     Yes          0      Graduate           Yes   \n",
       "3  LP001006   Male     Yes          0  Not Graduate            No   \n",
       "4  LP001008   Male      No          0      Graduate            No   \n",
       "\n",
       "   ApplicantIncome  CoapplicantIncome  LoanAmount  Loan_Amount_Term  \\\n",
       "0             5849                0.0         NaN             360.0   \n",
       "1             4583             1508.0       128.0             360.0   \n",
       "2             3000                0.0        66.0             360.0   \n",
       "3             2583             2358.0       120.0             360.0   \n",
       "4             6000                0.0       141.0             360.0   \n",
       "\n",
       "   Credit_History Property_Area Loan_Status  \n",
       "0             1.0         Urban           Y  \n",
       "1             1.0         Rural           N  \n",
       "2             1.0         Urban           Y  \n",
       "3             1.0         Urban           Y  \n",
       "4             1.0         Urban           Y  "
      ]
     },
     "execution_count": 5,
     "metadata": {},
     "output_type": "execute_result"
    }
   ],
   "source": [
    "df.head()"
   ]
  },
  {
   "cell_type": "code",
   "execution_count": 6,
   "id": "52936664",
   "metadata": {},
   "outputs": [
    {
     "data": {
      "text/html": [
       "<div>\n",
       "<style scoped>\n",
       "    .dataframe tbody tr th:only-of-type {\n",
       "        vertical-align: middle;\n",
       "    }\n",
       "\n",
       "    .dataframe tbody tr th {\n",
       "        vertical-align: top;\n",
       "    }\n",
       "\n",
       "    .dataframe thead th {\n",
       "        text-align: right;\n",
       "    }\n",
       "</style>\n",
       "<table border=\"1\" class=\"dataframe\">\n",
       "  <thead>\n",
       "    <tr style=\"text-align: right;\">\n",
       "      <th></th>\n",
       "      <th>Loan_ID</th>\n",
       "      <th>Gender</th>\n",
       "      <th>Married</th>\n",
       "      <th>Dependents</th>\n",
       "      <th>Education</th>\n",
       "      <th>Self_Employed</th>\n",
       "      <th>ApplicantIncome</th>\n",
       "      <th>CoapplicantIncome</th>\n",
       "      <th>LoanAmount</th>\n",
       "      <th>Loan_Amount_Term</th>\n",
       "      <th>Credit_History</th>\n",
       "      <th>Property_Area</th>\n",
       "      <th>Loan_Status</th>\n",
       "    </tr>\n",
       "  </thead>\n",
       "  <tbody>\n",
       "    <tr>\n",
       "      <th>609</th>\n",
       "      <td>LP002978</td>\n",
       "      <td>Female</td>\n",
       "      <td>No</td>\n",
       "      <td>0</td>\n",
       "      <td>Graduate</td>\n",
       "      <td>No</td>\n",
       "      <td>2900</td>\n",
       "      <td>0.0</td>\n",
       "      <td>71.0</td>\n",
       "      <td>360.0</td>\n",
       "      <td>1.0</td>\n",
       "      <td>Rural</td>\n",
       "      <td>Y</td>\n",
       "    </tr>\n",
       "    <tr>\n",
       "      <th>610</th>\n",
       "      <td>LP002979</td>\n",
       "      <td>Male</td>\n",
       "      <td>Yes</td>\n",
       "      <td>3+</td>\n",
       "      <td>Graduate</td>\n",
       "      <td>No</td>\n",
       "      <td>4106</td>\n",
       "      <td>0.0</td>\n",
       "      <td>40.0</td>\n",
       "      <td>180.0</td>\n",
       "      <td>1.0</td>\n",
       "      <td>Rural</td>\n",
       "      <td>Y</td>\n",
       "    </tr>\n",
       "    <tr>\n",
       "      <th>611</th>\n",
       "      <td>LP002983</td>\n",
       "      <td>Male</td>\n",
       "      <td>Yes</td>\n",
       "      <td>1</td>\n",
       "      <td>Graduate</td>\n",
       "      <td>No</td>\n",
       "      <td>8072</td>\n",
       "      <td>240.0</td>\n",
       "      <td>253.0</td>\n",
       "      <td>360.0</td>\n",
       "      <td>1.0</td>\n",
       "      <td>Urban</td>\n",
       "      <td>Y</td>\n",
       "    </tr>\n",
       "    <tr>\n",
       "      <th>612</th>\n",
       "      <td>LP002984</td>\n",
       "      <td>Male</td>\n",
       "      <td>Yes</td>\n",
       "      <td>2</td>\n",
       "      <td>Graduate</td>\n",
       "      <td>No</td>\n",
       "      <td>7583</td>\n",
       "      <td>0.0</td>\n",
       "      <td>187.0</td>\n",
       "      <td>360.0</td>\n",
       "      <td>1.0</td>\n",
       "      <td>Urban</td>\n",
       "      <td>Y</td>\n",
       "    </tr>\n",
       "    <tr>\n",
       "      <th>613</th>\n",
       "      <td>LP002990</td>\n",
       "      <td>Female</td>\n",
       "      <td>No</td>\n",
       "      <td>0</td>\n",
       "      <td>Graduate</td>\n",
       "      <td>Yes</td>\n",
       "      <td>4583</td>\n",
       "      <td>0.0</td>\n",
       "      <td>133.0</td>\n",
       "      <td>360.0</td>\n",
       "      <td>0.0</td>\n",
       "      <td>Semiurban</td>\n",
       "      <td>N</td>\n",
       "    </tr>\n",
       "  </tbody>\n",
       "</table>\n",
       "</div>"
      ],
      "text/plain": [
       "      Loan_ID  Gender Married Dependents Education Self_Employed  \\\n",
       "609  LP002978  Female      No          0  Graduate            No   \n",
       "610  LP002979    Male     Yes         3+  Graduate            No   \n",
       "611  LP002983    Male     Yes          1  Graduate            No   \n",
       "612  LP002984    Male     Yes          2  Graduate            No   \n",
       "613  LP002990  Female      No          0  Graduate           Yes   \n",
       "\n",
       "     ApplicantIncome  CoapplicantIncome  LoanAmount  Loan_Amount_Term  \\\n",
       "609             2900                0.0        71.0             360.0   \n",
       "610             4106                0.0        40.0             180.0   \n",
       "611             8072              240.0       253.0             360.0   \n",
       "612             7583                0.0       187.0             360.0   \n",
       "613             4583                0.0       133.0             360.0   \n",
       "\n",
       "     Credit_History Property_Area Loan_Status  \n",
       "609             1.0         Rural           Y  \n",
       "610             1.0         Rural           Y  \n",
       "611             1.0         Urban           Y  \n",
       "612             1.0         Urban           Y  \n",
       "613             0.0     Semiurban           N  "
      ]
     },
     "execution_count": 6,
     "metadata": {},
     "output_type": "execute_result"
    }
   ],
   "source": [
    "df.tail()"
   ]
  },
  {
   "cell_type": "markdown",
   "id": "a16e8ac1",
   "metadata": {},
   "source": [
    "### Total Number Of Rows And Column"
   ]
  },
  {
   "cell_type": "code",
   "execution_count": 7,
   "id": "d868df66",
   "metadata": {},
   "outputs": [
    {
     "data": {
      "text/plain": [
       "(614, 13)"
      ]
     },
     "execution_count": 7,
     "metadata": {},
     "output_type": "execute_result"
    }
   ],
   "source": [
    "df.shape"
   ]
  },
  {
   "cell_type": "code",
   "execution_count": 8,
   "id": "49195366",
   "metadata": {},
   "outputs": [
    {
     "name": "stdout",
     "output_type": "stream",
     "text": [
      "Number of Rows:  614\n",
      "Number of Columns:  13\n"
     ]
    }
   ],
   "source": [
    "print(\"Number of Rows: \",df.shape[0])\n",
    "print(\"Number of Columns: \",df.shape[1])"
   ]
  },
  {
   "cell_type": "code",
   "execution_count": 9,
   "id": "a2aaf497",
   "metadata": {},
   "outputs": [
    {
     "name": "stdout",
     "output_type": "stream",
     "text": [
      "<class 'pandas.core.frame.DataFrame'>\n",
      "RangeIndex: 614 entries, 0 to 613\n",
      "Data columns (total 13 columns):\n",
      " #   Column             Non-Null Count  Dtype  \n",
      "---  ------             --------------  -----  \n",
      " 0   Loan_ID            614 non-null    object \n",
      " 1   Gender             601 non-null    object \n",
      " 2   Married            611 non-null    object \n",
      " 3   Dependents         599 non-null    object \n",
      " 4   Education          614 non-null    object \n",
      " 5   Self_Employed      582 non-null    object \n",
      " 6   ApplicantIncome    614 non-null    int64  \n",
      " 7   CoapplicantIncome  614 non-null    float64\n",
      " 8   LoanAmount         592 non-null    float64\n",
      " 9   Loan_Amount_Term   600 non-null    float64\n",
      " 10  Credit_History     564 non-null    float64\n",
      " 11  Property_Area      614 non-null    object \n",
      " 12  Loan_Status        614 non-null    object \n",
      "dtypes: float64(4), int64(1), object(8)\n",
      "memory usage: 62.5+ KB\n"
     ]
    }
   ],
   "source": [
    "df.info()"
   ]
  },
  {
   "cell_type": "markdown",
   "id": "edbabbe0",
   "metadata": {},
   "source": [
    "- Some values are missing from some of the columns."
   ]
  },
  {
   "cell_type": "code",
   "execution_count": 10,
   "id": "b347d922",
   "metadata": {},
   "outputs": [
    {
     "data": {
      "text/html": [
       "<div>\n",
       "<style scoped>\n",
       "    .dataframe tbody tr th:only-of-type {\n",
       "        vertical-align: middle;\n",
       "    }\n",
       "\n",
       "    .dataframe tbody tr th {\n",
       "        vertical-align: top;\n",
       "    }\n",
       "\n",
       "    .dataframe thead th {\n",
       "        text-align: right;\n",
       "    }\n",
       "</style>\n",
       "<table border=\"1\" class=\"dataframe\">\n",
       "  <thead>\n",
       "    <tr style=\"text-align: right;\">\n",
       "      <th></th>\n",
       "      <th>count</th>\n",
       "      <th>mean</th>\n",
       "      <th>std</th>\n",
       "      <th>min</th>\n",
       "      <th>25%</th>\n",
       "      <th>50%</th>\n",
       "      <th>75%</th>\n",
       "      <th>max</th>\n",
       "    </tr>\n",
       "  </thead>\n",
       "  <tbody>\n",
       "    <tr>\n",
       "      <th>ApplicantIncome</th>\n",
       "      <td>614.0</td>\n",
       "      <td>5403.459283</td>\n",
       "      <td>6109.041673</td>\n",
       "      <td>150.0</td>\n",
       "      <td>2877.5</td>\n",
       "      <td>3812.5</td>\n",
       "      <td>5795.00</td>\n",
       "      <td>81000.0</td>\n",
       "    </tr>\n",
       "    <tr>\n",
       "      <th>CoapplicantIncome</th>\n",
       "      <td>614.0</td>\n",
       "      <td>1621.245798</td>\n",
       "      <td>2926.248369</td>\n",
       "      <td>0.0</td>\n",
       "      <td>0.0</td>\n",
       "      <td>1188.5</td>\n",
       "      <td>2297.25</td>\n",
       "      <td>41667.0</td>\n",
       "    </tr>\n",
       "    <tr>\n",
       "      <th>LoanAmount</th>\n",
       "      <td>592.0</td>\n",
       "      <td>146.412162</td>\n",
       "      <td>85.587325</td>\n",
       "      <td>9.0</td>\n",
       "      <td>100.0</td>\n",
       "      <td>128.0</td>\n",
       "      <td>168.00</td>\n",
       "      <td>700.0</td>\n",
       "    </tr>\n",
       "    <tr>\n",
       "      <th>Loan_Amount_Term</th>\n",
       "      <td>600.0</td>\n",
       "      <td>342.000000</td>\n",
       "      <td>65.120410</td>\n",
       "      <td>12.0</td>\n",
       "      <td>360.0</td>\n",
       "      <td>360.0</td>\n",
       "      <td>360.00</td>\n",
       "      <td>480.0</td>\n",
       "    </tr>\n",
       "    <tr>\n",
       "      <th>Credit_History</th>\n",
       "      <td>564.0</td>\n",
       "      <td>0.842199</td>\n",
       "      <td>0.364878</td>\n",
       "      <td>0.0</td>\n",
       "      <td>1.0</td>\n",
       "      <td>1.0</td>\n",
       "      <td>1.00</td>\n",
       "      <td>1.0</td>\n",
       "    </tr>\n",
       "  </tbody>\n",
       "</table>\n",
       "</div>"
      ],
      "text/plain": [
       "                   count         mean          std    min     25%     50%  \\\n",
       "ApplicantIncome    614.0  5403.459283  6109.041673  150.0  2877.5  3812.5   \n",
       "CoapplicantIncome  614.0  1621.245798  2926.248369    0.0     0.0  1188.5   \n",
       "LoanAmount         592.0   146.412162    85.587325    9.0   100.0   128.0   \n",
       "Loan_Amount_Term   600.0   342.000000    65.120410   12.0   360.0   360.0   \n",
       "Credit_History     564.0     0.842199     0.364878    0.0     1.0     1.0   \n",
       "\n",
       "                       75%      max  \n",
       "ApplicantIncome    5795.00  81000.0  \n",
       "CoapplicantIncome  2297.25  41667.0  \n",
       "LoanAmount          168.00    700.0  \n",
       "Loan_Amount_Term    360.00    480.0  \n",
       "Credit_History        1.00      1.0  "
      ]
     },
     "execution_count": 10,
     "metadata": {},
     "output_type": "execute_result"
    }
   ],
   "source": [
    "df.describe().T"
   ]
  },
  {
   "cell_type": "markdown",
   "id": "963fe77d",
   "metadata": {},
   "source": [
    "**How 'Credit history' affects the 'Loan status'?**"
   ]
  },
  {
   "cell_type": "code",
   "execution_count": 11,
   "id": "06dab096",
   "metadata": {},
   "outputs": [
    {
     "data": {
      "text/html": [
       "<div>\n",
       "<style scoped>\n",
       "    .dataframe tbody tr th:only-of-type {\n",
       "        vertical-align: middle;\n",
       "    }\n",
       "\n",
       "    .dataframe tbody tr th {\n",
       "        vertical-align: top;\n",
       "    }\n",
       "\n",
       "    .dataframe thead th {\n",
       "        text-align: right;\n",
       "    }\n",
       "</style>\n",
       "<table border=\"1\" class=\"dataframe\">\n",
       "  <thead>\n",
       "    <tr style=\"text-align: right;\">\n",
       "      <th>Loan_Status</th>\n",
       "      <th>N</th>\n",
       "      <th>Y</th>\n",
       "      <th>All</th>\n",
       "    </tr>\n",
       "    <tr>\n",
       "      <th>Credit_History</th>\n",
       "      <th></th>\n",
       "      <th></th>\n",
       "      <th></th>\n",
       "    </tr>\n",
       "  </thead>\n",
       "  <tbody>\n",
       "    <tr>\n",
       "      <th>0.0</th>\n",
       "      <td>82</td>\n",
       "      <td>7</td>\n",
       "      <td>89</td>\n",
       "    </tr>\n",
       "    <tr>\n",
       "      <th>1.0</th>\n",
       "      <td>97</td>\n",
       "      <td>378</td>\n",
       "      <td>475</td>\n",
       "    </tr>\n",
       "    <tr>\n",
       "      <th>All</th>\n",
       "      <td>179</td>\n",
       "      <td>385</td>\n",
       "      <td>564</td>\n",
       "    </tr>\n",
       "  </tbody>\n",
       "</table>\n",
       "</div>"
      ],
      "text/plain": [
       "Loan_Status       N    Y  All\n",
       "Credit_History               \n",
       "0.0              82    7   89\n",
       "1.0              97  378  475\n",
       "All             179  385  564"
      ]
     },
     "execution_count": 11,
     "metadata": {},
     "output_type": "execute_result"
    }
   ],
   "source": [
    "# Using crosstab() to established relationship\n",
    "# This method is used to compute a simple cross-tabulation of two (or more) factors. \n",
    "# By default, computes a frequency table of the factors unless an array of values and \n",
    "# an aggregation function are passed.\n",
    "pd.crosstab(df['Credit_History'], df['Loan_Status'], margins=True)"
   ]
  },
  {
   "cell_type": "markdown",
   "id": "1877a6ab",
   "metadata": {},
   "source": [
    "### Data Visualization"
   ]
  },
  {
   "cell_type": "code",
   "execution_count": 12,
   "id": "86af20a9",
   "metadata": {},
   "outputs": [
    {
     "data": {
      "text/plain": [
       "<Axes: >"
      ]
     },
     "execution_count": 12,
     "metadata": {},
     "output_type": "execute_result"
    },
    {
     "data": {
      "image/png": "[encoded data removed]",
      "text/plain": [
       "<Figure size 640x480 with 1 Axes>"
      ]
     },
     "metadata": {},
     "output_type": "display_data"
    }
   ],
   "source": [
    "# Applicant Income using boxplot, as it helps in identifying outliers in the dataset.\n",
    "df.boxplot(column='ApplicantIncome')"
   ]
  },
  {
   "cell_type": "code",
   "execution_count": 13,
   "id": "186177dd",
   "metadata": {},
   "outputs": [
    {
     "data": {
      "text/plain": [
       "<Axes: >"
      ]
     },
     "execution_count": 13,
     "metadata": {},
     "output_type": "execute_result"
    },
    {
     "data": {
      "image/png": "[encoded data removed]",
      "text/plain": [
       "<Figure size 640x480 with 1 Axes>"
      ]
     },
     "metadata": {},
     "output_type": "display_data"
    }
   ],
   "source": [
    "# Histogram\n",
    "df['ApplicantIncome'].hist(bins=20)"
   ]
  },
  {
   "cell_type": "code",
   "execution_count": 14,
   "id": "4e4b434e",
   "metadata": {},
   "outputs": [
    {
     "data": {
      "text/plain": [
       "<Axes: >"
      ]
     },
     "execution_count": 14,
     "metadata": {},
     "output_type": "execute_result"
    },
    {
     "data": {
      "image/png": "[encoded data removed]",
      "text/plain": [
       "<Figure size 640x480 with 1 Axes>"
      ]
     },
     "metadata": {},
     "output_type": "display_data"
    }
   ],
   "source": [
    "# Coapplicant Income\n",
    "df['CoapplicantIncome'].hist(bins=20)"
   ]
  },
  {
   "cell_type": "code",
   "execution_count": 15,
   "id": "fca1c147",
   "metadata": {},
   "outputs": [
    {
     "data": {
      "text/plain": [
       "<Axes: title={'center': 'ApplicantIncome'}, xlabel='Education'>"
      ]
     },
     "execution_count": 15,
     "metadata": {},
     "output_type": "execute_result"
    },
    {
     "data": {
      "image/png": "[encoded data removed]",
      "text/plain": [
       "<Figure size 640x480 with 1 Axes>"
      ]
     },
     "metadata": {},
     "output_type": "display_data"
    }
   ],
   "source": [
    "# Now, Let's explore relantionship between applicantIncome and their education through boxplot\n",
    "df.boxplot(column='ApplicantIncome', by='Education')"
   ]
  },
  {
   "cell_type": "markdown",
   "id": "e54085c6",
   "metadata": {},
   "source": [
    ">- Median Salary doesn't vary too much for Graduate vs Not Graduate.<br>\n",
    ">- But Some of the Graduates have very high Salary.This kind of variation is quite common.<br>\n",
    ">- But Normalising and Scaling these value is one important step we've to follow and implement for pre-processing."
   ]
  },
  {
   "cell_type": "code",
   "execution_count": 16,
   "id": "4f905331",
   "metadata": {},
   "outputs": [
    {
     "data": {
      "text/plain": [
       "<Axes: >"
      ]
     },
     "execution_count": 16,
     "metadata": {},
     "output_type": "execute_result"
    },
    {
     "data": {
      "image/png": "[encoded data removed]",
      "text/plain": [
       "<Figure size 640x480 with 1 Axes>"
      ]
     },
     "metadata": {},
     "output_type": "display_data"
    }
   ],
   "source": [
    "# Loan Amount\n",
    "df.boxplot(column='LoanAmount')"
   ]
  },
  {
   "cell_type": "code",
   "execution_count": 17,
   "id": "e59be13e",
   "metadata": {},
   "outputs": [
    {
     "data": {
      "text/plain": [
       "<Axes: >"
      ]
     },
     "execution_count": 17,
     "metadata": {},
     "output_type": "execute_result"
    },
    {
     "data": {
      "image/png": "[encoded data removed]",
      "text/plain": [
       "<Figure size 640x480 with 1 Axes>"
      ]
     },
     "metadata": {},
     "output_type": "display_data"
    }
   ],
   "source": [
    "#Let's also draw histogram for loan amount variant\n",
    "df['LoanAmount'].hist(bins=20)"
   ]
  },
  {
   "cell_type": "markdown",
   "id": "e1ea6478",
   "metadata": {},
   "source": [
    "### Normalising right skewed data."
   ]
  },
  {
   "cell_type": "markdown",
   "id": "7561daf9",
   "metadata": {},
   "source": [
    "- We'll be using **Log function**."
   ]
  },
  {
   "cell_type": "code",
   "execution_count": 18,
   "id": "331c5b79",
   "metadata": {},
   "outputs": [
    {
     "data": {
      "text/plain": [
       "<Axes: >"
      ]
     },
     "execution_count": 18,
     "metadata": {},
     "output_type": "execute_result"
    },
    {
     "data": {
      "image/png": "[encoded data removed]",
      "text/plain": [
       "<Figure size 640x480 with 1 Axes>"
      ]
     },
     "metadata": {},
     "output_type": "display_data"
    }
   ],
   "source": [
    "# Normalizing Loan Amount\n",
    "df['LoanAmount_log'] = np.log(df['LoanAmount'])\n",
    "# Visualizing LoanAmount_Log\n",
    "df['LoanAmount_log'].hist(bins=20)"
   ]
  },
  {
   "cell_type": "markdown",
   "id": "5662f8a1",
   "metadata": {},
   "source": [
    "### Look for missing values"
   ]
  },
  {
   "cell_type": "code",
   "execution_count": 19,
   "id": "2190286b",
   "metadata": {},
   "outputs": [
    {
     "data": {
      "text/plain": [
       "Loan_ID               0\n",
       "Gender               13\n",
       "Married               3\n",
       "Dependents           15\n",
       "Education             0\n",
       "Self_Employed        32\n",
       "ApplicantIncome       0\n",
       "CoapplicantIncome     0\n",
       "LoanAmount           22\n",
       "Loan_Amount_Term     14\n",
       "Credit_History       50\n",
       "Property_Area         0\n",
       "Loan_Status           0\n",
       "LoanAmount_log       22\n",
       "dtype: int64"
      ]
     },
     "execution_count": 19,
     "metadata": {},
     "output_type": "execute_result"
    }
   ],
   "source": [
    "df.isnull().sum()"
   ]
  },
  {
   "cell_type": "markdown",
   "id": "35c723fc",
   "metadata": {},
   "source": [
    "### Handling missing values"
   ]
  },
  {
   "cell_type": "markdown",
   "id": "8a5f8000",
   "metadata": {},
   "source": [
    "**Gender**"
   ]
  },
  {
   "cell_type": "code",
   "execution_count": 20,
   "id": "d573c2f6",
   "metadata": {},
   "outputs": [],
   "source": [
    "# Since Gender is a categorical variable, we will be using mode function\n",
    "df['Gender'].fillna(df['Gender'].mode()[0], inplace=True)"
   ]
  },
  {
   "cell_type": "markdown",
   "id": "300216be",
   "metadata": {},
   "source": [
    "**Married**"
   ]
  },
  {
   "cell_type": "code",
   "execution_count": 21,
   "id": "a0148d36",
   "metadata": {},
   "outputs": [],
   "source": [
    "df['Married'].fillna(df['Married'].mode()[0], inplace=True)"
   ]
  },
  {
   "cell_type": "markdown",
   "id": "8fa16f4a",
   "metadata": {},
   "source": [
    "**Dependent**"
   ]
  },
  {
   "cell_type": "code",
   "execution_count": 22,
   "id": "b7f27287",
   "metadata": {},
   "outputs": [],
   "source": [
    "df['Dependents'].fillna(df['Dependents'].mode()[0], inplace=True)"
   ]
  },
  {
   "cell_type": "markdown",
   "id": "780b84eb",
   "metadata": {},
   "source": [
    "**Self_Employed**"
   ]
  },
  {
   "cell_type": "code",
   "execution_count": 23,
   "id": "eb8069f9",
   "metadata": {},
   "outputs": [],
   "source": [
    "df['Self_Employed'].fillna(df['Self_Employed'].mode()[0], inplace=True)"
   ]
  },
  {
   "cell_type": "markdown",
   "id": "72539443",
   "metadata": {},
   "source": [
    "**LoanAmount & LoanAmount_log**"
   ]
  },
  {
   "cell_type": "code",
   "execution_count": 24,
   "id": "d3170e7f",
   "metadata": {},
   "outputs": [],
   "source": [
    "# It is not a categorical value, but a quantitative value. Hence we will be using mean() to replace the missing value\n",
    "df.LoanAmount = df.LoanAmount.fillna(df.LoanAmount.mean())\n",
    "df.LoanAmount_log = df.LoanAmount_log.fillna(df.LoanAmount_log.mean())"
   ]
  },
  {
   "cell_type": "markdown",
   "id": "45015d9a",
   "metadata": {},
   "source": [
    "**LoanAmount_Term**"
   ]
  },
  {
   "cell_type": "code",
   "execution_count": 25,
   "id": "823de5ff",
   "metadata": {},
   "outputs": [],
   "source": [
    "df['Loan_Amount_Term'].fillna(df['Loan_Amount_Term'].mode()[0], inplace=True)"
   ]
  },
  {
   "cell_type": "markdown",
   "id": "5004646c",
   "metadata": {},
   "source": [
    "**Credit_History**"
   ]
  },
  {
   "cell_type": "code",
   "execution_count": 26,
   "id": "34c87b33",
   "metadata": {},
   "outputs": [],
   "source": [
    "# It is in 0 and 1.\n",
    "df['Credit_History'].fillna(df['Credit_History'].mode()[0], inplace=True)"
   ]
  },
  {
   "cell_type": "code",
   "execution_count": 27,
   "id": "f0b7c134",
   "metadata": {},
   "outputs": [
    {
     "data": {
      "text/plain": [
       "Loan_ID              0\n",
       "Gender               0\n",
       "Married              0\n",
       "Dependents           0\n",
       "Education            0\n",
       "Self_Employed        0\n",
       "ApplicantIncome      0\n",
       "CoapplicantIncome    0\n",
       "LoanAmount           0\n",
       "Loan_Amount_Term     0\n",
       "Credit_History       0\n",
       "Property_Area        0\n",
       "Loan_Status          0\n",
       "LoanAmount_log       0\n",
       "dtype: int64"
      ]
     },
     "execution_count": 27,
     "metadata": {},
     "output_type": "execute_result"
    }
   ],
   "source": [
    "# Let's check if the missing values are handled or not\n",
    "df.isnull().sum()"
   ]
  },
  {
   "cell_type": "markdown",
   "id": "0a6b93d7",
   "metadata": {},
   "source": [
    "- All missing values are handled."
   ]
  },
  {
   "cell_type": "code",
   "execution_count": 28,
   "id": "1d29103c",
   "metadata": {},
   "outputs": [
    {
     "data": {
      "text/html": [
       "<div>\n",
       "<style scoped>\n",
       "    .dataframe tbody tr th:only-of-type {\n",
       "        vertical-align: middle;\n",
       "    }\n",
       "\n",
       "    .dataframe tbody tr th {\n",
       "        vertical-align: top;\n",
       "    }\n",
       "\n",
       "    .dataframe thead th {\n",
       "        text-align: right;\n",
       "    }\n",
       "</style>\n",
       "<table border=\"1\" class=\"dataframe\">\n",
       "  <thead>\n",
       "    <tr style=\"text-align: right;\">\n",
       "      <th></th>\n",
       "      <th>Loan_ID</th>\n",
       "      <th>Gender</th>\n",
       "      <th>Married</th>\n",
       "      <th>Dependents</th>\n",
       "      <th>Education</th>\n",
       "      <th>Self_Employed</th>\n",
       "      <th>ApplicantIncome</th>\n",
       "      <th>CoapplicantIncome</th>\n",
       "      <th>LoanAmount</th>\n",
       "      <th>Loan_Amount_Term</th>\n",
       "      <th>Credit_History</th>\n",
       "      <th>Property_Area</th>\n",
       "      <th>Loan_Status</th>\n",
       "      <th>LoanAmount_log</th>\n",
       "    </tr>\n",
       "  </thead>\n",
       "  <tbody>\n",
       "    <tr>\n",
       "      <th>0</th>\n",
       "      <td>LP001002</td>\n",
       "      <td>Male</td>\n",
       "      <td>No</td>\n",
       "      <td>0</td>\n",
       "      <td>Graduate</td>\n",
       "      <td>No</td>\n",
       "      <td>5849</td>\n",
       "      <td>0.0</td>\n",
       "      <td>146.412162</td>\n",
       "      <td>360.0</td>\n",
       "      <td>1.0</td>\n",
       "      <td>Urban</td>\n",
       "      <td>Y</td>\n",
       "      <td>4.857444</td>\n",
       "    </tr>\n",
       "    <tr>\n",
       "      <th>1</th>\n",
       "      <td>LP001003</td>\n",
       "      <td>Male</td>\n",
       "      <td>Yes</td>\n",
       "      <td>1</td>\n",
       "      <td>Graduate</td>\n",
       "      <td>No</td>\n",
       "      <td>4583</td>\n",
       "      <td>1508.0</td>\n",
       "      <td>128.000000</td>\n",
       "      <td>360.0</td>\n",
       "      <td>1.0</td>\n",
       "      <td>Rural</td>\n",
       "      <td>N</td>\n",
       "      <td>4.852030</td>\n",
       "    </tr>\n",
       "    <tr>\n",
       "      <th>2</th>\n",
       "      <td>LP001005</td>\n",
       "      <td>Male</td>\n",
       "      <td>Yes</td>\n",
       "      <td>0</td>\n",
       "      <td>Graduate</td>\n",
       "      <td>Yes</td>\n",
       "      <td>3000</td>\n",
       "      <td>0.0</td>\n",
       "      <td>66.000000</td>\n",
       "      <td>360.0</td>\n",
       "      <td>1.0</td>\n",
       "      <td>Urban</td>\n",
       "      <td>Y</td>\n",
       "      <td>4.189655</td>\n",
       "    </tr>\n",
       "    <tr>\n",
       "      <th>3</th>\n",
       "      <td>LP001006</td>\n",
       "      <td>Male</td>\n",
       "      <td>Yes</td>\n",
       "      <td>0</td>\n",
       "      <td>Not Graduate</td>\n",
       "      <td>No</td>\n",
       "      <td>2583</td>\n",
       "      <td>2358.0</td>\n",
       "      <td>120.000000</td>\n",
       "      <td>360.0</td>\n",
       "      <td>1.0</td>\n",
       "      <td>Urban</td>\n",
       "      <td>Y</td>\n",
       "      <td>4.787492</td>\n",
       "    </tr>\n",
       "    <tr>\n",
       "      <th>4</th>\n",
       "      <td>LP001008</td>\n",
       "      <td>Male</td>\n",
       "      <td>No</td>\n",
       "      <td>0</td>\n",
       "      <td>Graduate</td>\n",
       "      <td>No</td>\n",
       "      <td>6000</td>\n",
       "      <td>0.0</td>\n",
       "      <td>141.000000</td>\n",
       "      <td>360.0</td>\n",
       "      <td>1.0</td>\n",
       "      <td>Urban</td>\n",
       "      <td>Y</td>\n",
       "      <td>4.948760</td>\n",
       "    </tr>\n",
       "    <tr>\n",
       "      <th>...</th>\n",
       "      <td>...</td>\n",
       "      <td>...</td>\n",
       "      <td>...</td>\n",
       "      <td>...</td>\n",
       "      <td>...</td>\n",
       "      <td>...</td>\n",
       "      <td>...</td>\n",
       "      <td>...</td>\n",
       "      <td>...</td>\n",
       "      <td>...</td>\n",
       "      <td>...</td>\n",
       "      <td>...</td>\n",
       "      <td>...</td>\n",
       "      <td>...</td>\n",
       "    </tr>\n",
       "    <tr>\n",
       "      <th>609</th>\n",
       "      <td>LP002978</td>\n",
       "      <td>Female</td>\n",
       "      <td>No</td>\n",
       "      <td>0</td>\n",
       "      <td>Graduate</td>\n",
       "      <td>No</td>\n",
       "      <td>2900</td>\n",
       "      <td>0.0</td>\n",
       "      <td>71.000000</td>\n",
       "      <td>360.0</td>\n",
       "      <td>1.0</td>\n",
       "      <td>Rural</td>\n",
       "      <td>Y</td>\n",
       "      <td>4.262680</td>\n",
       "    </tr>\n",
       "    <tr>\n",
       "      <th>610</th>\n",
       "      <td>LP002979</td>\n",
       "      <td>Male</td>\n",
       "      <td>Yes</td>\n",
       "      <td>3+</td>\n",
       "      <td>Graduate</td>\n",
       "      <td>No</td>\n",
       "      <td>4106</td>\n",
       "      <td>0.0</td>\n",
       "      <td>40.000000</td>\n",
       "      <td>180.0</td>\n",
       "      <td>1.0</td>\n",
       "      <td>Rural</td>\n",
       "      <td>Y</td>\n",
       "      <td>3.688879</td>\n",
       "    </tr>\n",
       "    <tr>\n",
       "      <th>611</th>\n",
       "      <td>LP002983</td>\n",
       "      <td>Male</td>\n",
       "      <td>Yes</td>\n",
       "      <td>1</td>\n",
       "      <td>Graduate</td>\n",
       "      <td>No</td>\n",
       "      <td>8072</td>\n",
       "      <td>240.0</td>\n",
       "      <td>253.000000</td>\n",
       "      <td>360.0</td>\n",
       "      <td>1.0</td>\n",
       "      <td>Urban</td>\n",
       "      <td>Y</td>\n",
       "      <td>5.533389</td>\n",
       "    </tr>\n",
       "    <tr>\n",
       "      <th>612</th>\n",
       "      <td>LP002984</td>\n",
       "      <td>Male</td>\n",
       "      <td>Yes</td>\n",
       "      <td>2</td>\n",
       "      <td>Graduate</td>\n",
       "      <td>No</td>\n",
       "      <td>7583</td>\n",
       "      <td>0.0</td>\n",
       "      <td>187.000000</td>\n",
       "      <td>360.0</td>\n",
       "      <td>1.0</td>\n",
       "      <td>Urban</td>\n",
       "      <td>Y</td>\n",
       "      <td>5.231109</td>\n",
       "    </tr>\n",
       "    <tr>\n",
       "      <th>613</th>\n",
       "      <td>LP002990</td>\n",
       "      <td>Female</td>\n",
       "      <td>No</td>\n",
       "      <td>0</td>\n",
       "      <td>Graduate</td>\n",
       "      <td>Yes</td>\n",
       "      <td>4583</td>\n",
       "      <td>0.0</td>\n",
       "      <td>133.000000</td>\n",
       "      <td>360.0</td>\n",
       "      <td>0.0</td>\n",
       "      <td>Semiurban</td>\n",
       "      <td>N</td>\n",
       "      <td>4.890349</td>\n",
       "    </tr>\n",
       "  </tbody>\n",
       "</table>\n",
       "<p>614 rows × 14 columns</p>\n",
       "</div>"
      ],
      "text/plain": [
       "      Loan_ID  Gender Married Dependents     Education Self_Employed  \\\n",
       "0    LP001002    Male      No          0      Graduate            No   \n",
       "1    LP001003    Male     Yes          1      Graduate            No   \n",
       "2    LP001005    Male     Yes          0      Graduate           Yes   \n",
       "3    LP001006    Male     Yes          0  Not Graduate            No   \n",
       "4    LP001008    Male      No          0      Graduate            No   \n",
       "..        ...     ...     ...        ...           ...           ...   \n",
       "609  LP002978  Female      No          0      Graduate            No   \n",
       "610  LP002979    Male     Yes         3+      Graduate            No   \n",
       "611  LP002983    Male     Yes          1      Graduate            No   \n",
       "612  LP002984    Male     Yes          2      Graduate            No   \n",
       "613  LP002990  Female      No          0      Graduate           Yes   \n",
       "\n",
       "     ApplicantIncome  CoapplicantIncome  LoanAmount  Loan_Amount_Term  \\\n",
       "0               5849                0.0  146.412162             360.0   \n",
       "1               4583             1508.0  128.000000             360.0   \n",
       "2               3000                0.0   66.000000             360.0   \n",
       "3               2583             2358.0  120.000000             360.0   \n",
       "4               6000                0.0  141.000000             360.0   \n",
       "..               ...                ...         ...               ...   \n",
       "609             2900                0.0   71.000000             360.0   \n",
       "610             4106                0.0   40.000000             180.0   \n",
       "611             8072              240.0  253.000000             360.0   \n",
       "612             7583                0.0  187.000000             360.0   \n",
       "613             4583                0.0  133.000000             360.0   \n",
       "\n",
       "     Credit_History Property_Area Loan_Status  LoanAmount_log  \n",
       "0               1.0         Urban           Y        4.857444  \n",
       "1               1.0         Rural           N        4.852030  \n",
       "2               1.0         Urban           Y        4.189655  \n",
       "3               1.0         Urban           Y        4.787492  \n",
       "4               1.0         Urban           Y        4.948760  \n",
       "..              ...           ...         ...             ...  \n",
       "609             1.0         Rural           Y        4.262680  \n",
       "610             1.0         Rural           Y        3.688879  \n",
       "611             1.0         Urban           Y        5.533389  \n",
       "612             1.0         Urban           Y        5.231109  \n",
       "613             0.0     Semiurban           N        4.890349  \n",
       "\n",
       "[614 rows x 14 columns]"
      ]
     },
     "execution_count": 28,
     "metadata": {},
     "output_type": "execute_result"
    }
   ],
   "source": [
    "df"
   ]
  },
  {
   "cell_type": "code",
   "execution_count": 32,
   "id": "e057a833",
   "metadata": {},
   "outputs": [],
   "source": [
    "df.to_csv(\"Exported Loan Test.csv\", index=False)"
   ]
  },
  {
   "cell_type": "code",
   "execution_count": null,
   "id": "6ee2bcb6",
   "metadata": {},
   "outputs": [],
   "source": [
    "# ApplicantIncome and CoapplicantIncome, both are right skewed. Instead of normalizing them separately, \n",
    "# we will be combining them and then log over the total value\n",
    "df['TotalIncome'] = df['ApplicantIncome'] + df['CoapplicantIncome']\n",
    "df['TotalIncome_log'] = np.log(df['TotalIncome'])"
   ]
  },
  {
   "cell_type": "code",
   "execution_count": null,
   "id": "ee093999",
   "metadata": {},
   "outputs": [],
   "source": [
    "df['TotalIncome_log'].hist(bins=20)"
   ]
  },
  {
   "cell_type": "code",
   "execution_count": null,
   "id": "dc66fb9c",
   "metadata": {},
   "outputs": [],
   "source": [
    "df.head()"
   ]
  },
  {
   "cell_type": "markdown",
   "id": "2fb58cf0",
   "metadata": {},
   "source": [
    "### Dividing dataset into Dependent (y) and Independent variables (X)"
   ]
  },
  {
   "cell_type": "code",
   "execution_count": null,
   "id": "14d551fd",
   "metadata": {},
   "outputs": [],
   "source": [
    "# X represent all the independent variables\n",
    "X = df.iloc[:,np.r_[1:5,9:11,13:15]].values \n",
    "# y is the dependent variable that we need to predict, which is the 'loan status' column at 12th index\n",
    "y = df.iloc[:,12].values"
   ]
  },
  {
   "cell_type": "markdown",
   "id": "e0b7934f",
   "metadata": {},
   "source": [
    "## What is the difference between NP R_ and NP C_?\n",
    "\n",
    "1. np. c_[] concatenates arrays along second axis. (column)\n",
    "2. np. r_[] concatenates arrays along first axis. (row)"
   ]
  },
  {
   "cell_type": "code",
   "execution_count": null,
   "id": "37935fbc",
   "metadata": {},
   "outputs": [],
   "source": [
    "X"
   ]
  },
  {
   "cell_type": "code",
   "execution_count": null,
   "id": "23f4c84b",
   "metadata": {},
   "outputs": [],
   "source": [
    "y"
   ]
  },
  {
   "cell_type": "markdown",
   "id": "7320a4fd",
   "metadata": {},
   "source": [
    "### Split dataset into train and test dataset"
   ]
  },
  {
   "cell_type": "code",
   "execution_count": null,
   "id": "0ccfc478",
   "metadata": {},
   "outputs": [],
   "source": [
    "from sklearn.model_selection import train_test_split\n",
    "X_train, X_test, y_train, y_test = train_test_split(X,y,test_size=0.2, random_state = 0)\n",
    "# test_size=0.2 # as we want 80% data for training the model\n",
    "# random_state = 0 # as we want the same result to change in every cycle. If not given zero, it will keep changing "
   ]
  },
  {
   "cell_type": "code",
   "execution_count": null,
   "id": "0a65d83f",
   "metadata": {},
   "outputs": [],
   "source": [
    "print(X_train)"
   ]
  },
  {
   "cell_type": "markdown",
   "id": "030339ef",
   "metadata": {},
   "source": [
    "### Encoding"
   ]
  },
  {
   "cell_type": "code",
   "execution_count": null,
   "id": "f640ff77",
   "metadata": {},
   "outputs": [],
   "source": [
    "from sklearn.preprocessing import LabelEncoder\n",
    "labelencoder_X = LabelEncoder()"
   ]
  },
  {
   "cell_type": "code",
   "execution_count": null,
   "id": "b035ecae",
   "metadata": {},
   "outputs": [],
   "source": [
    "# Let use fit_tranform() func. of LabelEncoder() class to convert the indexes we want from String to numeric format\n",
    "for i in range(0, 5):\n",
    "    X_train[:,i] = labelencoder_X.fit_transform(X_train[:,i])"
   ]
  },
  {
   "cell_type": "code",
   "execution_count": null,
   "id": "6bf25e45",
   "metadata": {},
   "outputs": [],
   "source": [
    "# similarly, do that for 7th index\n",
    "X_train[:,7] = labelencoder_X.fit_transform(X_train[:,7])"
   ]
  },
  {
   "cell_type": "code",
   "execution_count": null,
   "id": "1ade23f1",
   "metadata": {},
   "outputs": [],
   "source": [
    "X_train"
   ]
  },
  {
   "cell_type": "markdown",
   "id": "40c770e6",
   "metadata": {},
   "source": [
    "**Let's encode y_train now**"
   ]
  },
  {
   "cell_type": "code",
   "execution_count": null,
   "id": "03c1eb5c",
   "metadata": {},
   "outputs": [],
   "source": [
    "labelencoder_y = LabelEncoder()\n",
    "y_train = labelencoder_y.fit_transform(y_train)"
   ]
  },
  {
   "cell_type": "code",
   "execution_count": null,
   "id": "b561bf8c",
   "metadata": {},
   "outputs": [],
   "source": [
    "y_train"
   ]
  },
  {
   "cell_type": "code",
   "execution_count": null,
   "id": "f2120d67",
   "metadata": {},
   "outputs": [],
   "source": [
    "# Encoding test data now\n",
    "X_test"
   ]
  },
  {
   "cell_type": "code",
   "execution_count": null,
   "id": "7104d895",
   "metadata": {},
   "outputs": [],
   "source": [
    "for i in range(0, 5):\n",
    "    X_test[:,i] = labelencoder_X.fit_transform(X_test[:,i])"
   ]
  },
  {
   "cell_type": "code",
   "execution_count": null,
   "id": "db269848",
   "metadata": {},
   "outputs": [],
   "source": [
    "X_test[:,7] = labelencoder_X.fit_transform(X_test[:,7])"
   ]
  },
  {
   "cell_type": "code",
   "execution_count": null,
   "id": "8fd7c61d",
   "metadata": {},
   "outputs": [],
   "source": [
    "y_test = labelencoder_y.fit_transform(y_test)"
   ]
  },
  {
   "cell_type": "code",
   "execution_count": null,
   "id": "f30aff62",
   "metadata": {},
   "outputs": [],
   "source": [
    "X_test"
   ]
  },
  {
   "cell_type": "code",
   "execution_count": null,
   "id": "008c50a1",
   "metadata": {},
   "outputs": [],
   "source": [
    "y_test"
   ]
  },
  {
   "cell_type": "markdown",
   "id": "6fd41e4d",
   "metadata": {},
   "source": [
    "### Scaling (since different columns have different range)"
   ]
  },
  {
   "cell_type": "code",
   "execution_count": null,
   "id": "570b0171",
   "metadata": {},
   "outputs": [],
   "source": [
    "from sklearn.preprocessing import StandardScaler\n",
    "ss = StandardScaler()\n",
    "X_train = ss.fit_transform(X_train)\n",
    "X_test = ss.fit_transform(X_test)"
   ]
  },
  {
   "cell_type": "markdown",
   "id": "1560d01d",
   "metadata": {},
   "source": [
    "### Creating Model (by applying Algorithm on the dataset)"
   ]
  },
  {
   "cell_type": "markdown",
   "id": "6c8b2b29",
   "metadata": {},
   "source": [
    "**1. Decision Tree Classifier**"
   ]
  },
  {
   "cell_type": "code",
   "execution_count": null,
   "id": "ac1371ce",
   "metadata": {},
   "outputs": [],
   "source": [
    "from sklearn.tree import DecisionTreeClassifier\n",
    "DTClassifier = DecisionTreeClassifier(criterion ='entropy', random_state=0)\n",
    "DTClassifier.fit(X_train,y_train)"
   ]
  },
  {
   "cell_type": "code",
   "execution_count": null,
   "id": "af411f6f",
   "metadata": {
    "scrolled": true
   },
   "outputs": [],
   "source": [
    "y_pred = DTClassifier.predict(X_test)\n",
    "y_pred"
   ]
  },
  {
   "cell_type": "code",
   "execution_count": null,
   "id": "7e57fbcf",
   "metadata": {},
   "outputs": [],
   "source": [
    "# Calculating accuracy of the prediction\n",
    "from sklearn import metrics\n",
    "print('The accuracy of the decision tree is: ', metrics.accuracy_score(y_pred,y_test))"
   ]
  },
  {
   "cell_type": "markdown",
   "id": "2e584bcc",
   "metadata": {},
   "source": [
    "**2. Naive_Bayes Algorithm**"
   ]
  },
  {
   "cell_type": "code",
   "execution_count": null,
   "id": "8dfd88ac",
   "metadata": {},
   "outputs": [],
   "source": [
    "from sklearn.naive_bayes import GaussianNB\n",
    "NBClassifier = GaussianNB()\n",
    "NBClassifier.fit(X_train, y_train)"
   ]
  },
  {
   "cell_type": "code",
   "execution_count": null,
   "id": "3f6e2218",
   "metadata": {},
   "outputs": [],
   "source": [
    "y_pred = NBClassifier.predict(X_test)"
   ]
  },
  {
   "cell_type": "code",
   "execution_count": null,
   "id": "0c56de25",
   "metadata": {},
   "outputs": [],
   "source": [
    "y_pred"
   ]
  },
  {
   "cell_type": "code",
   "execution_count": null,
   "id": "95f849cc",
   "metadata": {},
   "outputs": [],
   "source": [
    "print('The accuracy of Naive Bayes is: ', metrics.accuracy_score(y_pred,y_test))"
   ]
  },
  {
   "cell_type": "markdown",
   "id": "4a26fdb6",
   "metadata": {},
   "source": [
    "**Now, import test dataset, which don't have 'loan status' column.**"
   ]
  },
  {
   "cell_type": "code",
   "execution_count": null,
   "id": "bbc143b6",
   "metadata": {},
   "outputs": [],
   "source": [
    "testdata = pd.read_csv(\"Loan Test.csv\")"
   ]
  },
  {
   "cell_type": "code",
   "execution_count": null,
   "id": "2457a69b",
   "metadata": {},
   "outputs": [],
   "source": [
    "print(testdata.to_string())"
   ]
  },
  {
   "cell_type": "code",
   "execution_count": null,
   "id": "9422be65",
   "metadata": {},
   "outputs": [],
   "source": [
    "testdata.head()"
   ]
  },
  {
   "cell_type": "code",
   "execution_count": null,
   "id": "8da3e3c3",
   "metadata": {},
   "outputs": [],
   "source": [
    "testdata.tail()"
   ]
  },
  {
   "cell_type": "markdown",
   "id": "3503511c",
   "metadata": {},
   "source": [
    "### Total Number Of Rows And Column"
   ]
  },
  {
   "cell_type": "code",
   "execution_count": null,
   "id": "b298d3b7",
   "metadata": {},
   "outputs": [],
   "source": [
    "testdata.shape"
   ]
  },
  {
   "cell_type": "code",
   "execution_count": null,
   "id": "5cf6f5b6",
   "metadata": {},
   "outputs": [],
   "source": [
    "print(\"Number Of Rows: \", testdata.shape[0])\n",
    "print(\"Number Of Columns: \", testdata.shape[1])"
   ]
  },
  {
   "cell_type": "markdown",
   "id": "83c80212",
   "metadata": {},
   "source": [
    "### Naive_Bayes Algorithm to predict."
   ]
  },
  {
   "cell_type": "code",
   "execution_count": null,
   "id": "a8e35ae6",
   "metadata": {},
   "outputs": [],
   "source": [
    "testdata.info()"
   ]
  },
  {
   "cell_type": "markdown",
   "id": "b8172dd8",
   "metadata": {},
   "source": [
    "- Okay, this also has some missing values."
   ]
  },
  {
   "cell_type": "code",
   "execution_count": null,
   "id": "3e15bcfa",
   "metadata": {},
   "outputs": [],
   "source": [
    "# Handling those misssing values\n",
    "testdata.isnull().sum()"
   ]
  },
  {
   "cell_type": "code",
   "execution_count": null,
   "id": "80c1513e",
   "metadata": {},
   "outputs": [],
   "source": [
    "testdata['Gender'].fillna(testdata['Gender'].mode()[0], inplace=True)\n",
    "testdata['Dependents'].fillna(testdata['Dependents'].mode()[0], inplace=True)\n",
    "testdata['Self_Employed'].fillna(testdata['Self_Employed'].mode()[0], inplace=True)\n",
    "testdata['Loan_Amount_Term'].fillna(testdata['Loan_Amount_Term'].mode()[0], inplace=True)\n",
    "testdata['Credit_History'].fillna(testdata['Credit_History'].mode()[0], inplace=True)"
   ]
  },
  {
   "cell_type": "code",
   "execution_count": null,
   "id": "4078219e",
   "metadata": {},
   "outputs": [],
   "source": [
    "testdata.isnull().sum()"
   ]
  },
  {
   "cell_type": "code",
   "execution_count": null,
   "id": "4048487f",
   "metadata": {},
   "outputs": [],
   "source": [
    "testdata.boxplot(column='LoanAmount')"
   ]
  },
  {
   "cell_type": "code",
   "execution_count": null,
   "id": "0eb9bdd7",
   "metadata": {},
   "outputs": [],
   "source": [
    "testdata.boxplot(column='ApplicantIncome')"
   ]
  },
  {
   "cell_type": "code",
   "execution_count": null,
   "id": "52778b12",
   "metadata": {},
   "outputs": [],
   "source": [
    "testdata.LoanAmount = testdata.LoanAmount.fillna(testdata.LoanAmount.mean())"
   ]
  },
  {
   "cell_type": "code",
   "execution_count": null,
   "id": "4b06a009",
   "metadata": {},
   "outputs": [],
   "source": [
    "testdata.isnull().sum()"
   ]
  },
  {
   "cell_type": "code",
   "execution_count": null,
   "id": "fbcb3e26",
   "metadata": {},
   "outputs": [],
   "source": [
    "testdata['LoanAmount_log'] = np.log(testdata['LoanAmount'])"
   ]
  },
  {
   "cell_type": "code",
   "execution_count": null,
   "id": "29606533",
   "metadata": {},
   "outputs": [],
   "source": [
    "testdata['TotalIncome'] = testdata['ApplicantIncome'] + testdata['CoapplicantIncome']\n",
    "testdata['TotalIncome_log'] = np.log(testdata['TotalIncome'])"
   ]
  },
  {
   "cell_type": "code",
   "execution_count": null,
   "id": "7898aa23",
   "metadata": {},
   "outputs": [],
   "source": [
    "testdata.head()"
   ]
  },
  {
   "cell_type": "code",
   "execution_count": null,
   "id": "cf3908fc",
   "metadata": {},
   "outputs": [],
   "source": [
    "# Spiltting dataset into X and y\n",
    "test = testdata.iloc[:,np.r_[1:5,9:11,13:15]].values"
   ]
  },
  {
   "cell_type": "code",
   "execution_count": null,
   "id": "426d81bd",
   "metadata": {},
   "outputs": [],
   "source": [
    "# Encoding\n",
    "for i in range(0,5):\n",
    "    test[:,i] = labelencoder_X.fit_transform(test[:,i])"
   ]
  },
  {
   "cell_type": "code",
   "execution_count": null,
   "id": "191992cb",
   "metadata": {},
   "outputs": [],
   "source": [
    "# 7 index as well\n",
    "test[:,7] = labelencoder_X.fit_transform(test[:,7])"
   ]
  },
  {
   "cell_type": "code",
   "execution_count": null,
   "id": "f50094d0",
   "metadata": {},
   "outputs": [],
   "source": [
    "test"
   ]
  },
  {
   "cell_type": "markdown",
   "id": "c563da0f",
   "metadata": {},
   "source": [
    "- All textual value is converted into numeric now."
   ]
  },
  {
   "cell_type": "code",
   "execution_count": null,
   "id": "fb8cb886",
   "metadata": {},
   "outputs": [],
   "source": [
    "# Scaling test data\n",
    "test = ss.fit_transform(test)  # Instances have already been created while training the model"
   ]
  },
  {
   "cell_type": "markdown",
   "id": "72b7ceec",
   "metadata": {},
   "source": [
    "**Using Naive Bayes Algo to predict for test dataset**"
   ]
  },
  {
   "cell_type": "code",
   "execution_count": null,
   "id": "7ce05b32",
   "metadata": {},
   "outputs": [],
   "source": [
    "pred = NBClassifier.predict(test)"
   ]
  },
  {
   "cell_type": "code",
   "execution_count": null,
   "id": "d0982155",
   "metadata": {},
   "outputs": [],
   "source": [
    "pred  "
   ]
  },
  {
   "cell_type": "markdown",
   "id": "c08f725a",
   "metadata": {},
   "source": [
    "- 1 - eligible\n",
    "- 0 - not eligible"
   ]
  }
 ],
 "metadata": {
  "kernelspec": {
   "display_name": "Python 3 (ipykernel)",
   "language": "python",
   "name": "python3"
  },
  "language_info": {
   "codemirror_mode": {
    "name": "ipython",
    "version": 3
   },
   "file_extension": ".py",
   "mimetype": "text/x-python",
   "name": "python",
   "nbconvert_exporter": "python",
   "pygments_lexer": "ipython3",
   "version": "3.11.7"
  }
 },
 "nbformat": 4,
 "nbformat_minor": 5
}
